{
 "cells": [
  {
   "cell_type": "code",
   "execution_count": 1,
   "id": "76df1e27",
   "metadata": {},
   "outputs": [],
   "source": [
    "import pandas as pd\n",
    "import torch\n",
    "from torch import nn\n",
    "from esm.models.esmc import ESMC\n",
    "from esm.sdk.api import ESMProtein, LogitsConfig\n",
    "from tqdm import tqdm\n",
    "import re"
   ]
  },
  {
   "cell_type": "code",
   "execution_count": 3,
   "id": "e3f615b3",
   "metadata": {},
   "outputs": [
    {
     "name": "stdout",
     "output_type": "stream",
     "text": [
      "6\n"
     ]
    }
   ],
   "source": [
    "seq_path = r\"E:\\Archive\\PG_at_UCL\\bioinfo\\paralogs of PGH2.txt\"\n",
    "p_list = []\n",
    "with open(seq_path, 'r') as f:\n",
    "    contents = f.readlines()\n",
    "    for content in contents:\n",
    "        if re.match(r'\\w', content):\n",
    "            p_list.append(content)\n",
    "print(len(p_list))\n"
   ]
  },
  {
   "cell_type": "code",
   "execution_count": 4,
   "id": "8118fa08",
   "metadata": {},
   "outputs": [
    {
     "data": {
      "application/vnd.jupyter.widget-view+json": {
       "model_id": "8ae364fa87e34e69bf4aa67eabced460",
       "version_major": 2,
       "version_minor": 0
      },
      "text/plain": [
       "Fetching 4 files:   0%|          | 0/4 [00:00<?, ?it/s]"
      ]
     },
     "metadata": {},
     "output_type": "display_data"
    },
    {
     "name": "stderr",
     "output_type": "stream",
     "text": [
      "100%|\u001b[36m██████████\u001b[0m| 1/1 [00:01<00:00,  1.61s/it]\n"
     ]
    }
   ],
   "source": [
    "def Get_Protein_Feature(p_list, truncation_length:int = 2046):\n",
    "    client = ESMC.from_pretrained(\"esmc_600m\").to(\"cuda\")\n",
    "    batch = 20\n",
    "    data_tmp = []\n",
    "    output = []\n",
    "    dictionary = {}\n",
    "    for p in p_list:\n",
    "        data_tmp.append(p)\n",
    "\n",
    "    pbar0 = tqdm(range(len(data_tmp)//batch + 1), position=0, colour='cyan')\n",
    "    for i in pbar0:\n",
    "        torch.cuda.empty_cache()\n",
    "        if i == len(data_tmp)//batch:\n",
    "            data_part = data_tmp[i * batch:]\n",
    "        else:\n",
    "            data_part = data_tmp[i * batch:(i + 1) * batch]\n",
    "        #proteins = [ESMProtein(sequence = s) for s in data_part]\n",
    "        \n",
    "        for p in data_part:\n",
    "            proteins = ESMProtein(sequence = p)\n",
    "\n",
    "            protein_tensors = client.encode(proteins)\n",
    "            logits_output = client.logits(\n",
    "                protein_tensors, \n",
    "                LogitsConfig(sequence=True, return_embeddings=True)\n",
    "            )\n",
    "            embbeding_output = logits_output.embeddings.squeeze().cpu().numpy().mean(0)\n",
    "            dictionary[p] = embbeding_output\n",
    "            df = pd.DataFrame(dictionary.items(), columns=['seq', 'esm'])\n",
    "            #output.append(embbeding_output.squeeze())\n",
    "    return df\n",
    "\n",
    "df = Get_Protein_Feature(p_list)"
   ]
  },
  {
   "cell_type": "code",
   "execution_count": 6,
   "id": "85d5b50e",
   "metadata": {},
   "outputs": [],
   "source": [
    "from scipy.spatial.distance import pdist, squareform\n",
    "import matplotlib.pyplot as plt\n",
    "from scipy.cluster.hierarchy import linkage, dendrogram, fcluster\n",
    "dist_matrix = squareform(pdist(df['esm'].tolist(), metric=\"cosine\"))"
   ]
  },
  {
   "cell_type": "code",
   "execution_count": 37,
   "id": "f4d10fe9",
   "metadata": {},
   "outputs": [
    {
     "data": {
      "text/plain": [
       "array([[0.        , 0.00985461, 0.02351396, 0.03357905, 0.0657592 ,\n",
       "        0.06006087],\n",
       "       [0.00985461, 0.        , 0.02336794, 0.02957938, 0.04724231,\n",
       "        0.0534528 ],\n",
       "       [0.02351396, 0.02336794, 0.        , 0.02050943, 0.0464125 ,\n",
       "        0.05304866],\n",
       "       [0.03357905, 0.02957938, 0.02050943, 0.        , 0.02516352,\n",
       "        0.01455084],\n",
       "       [0.0657592 , 0.04724231, 0.0464125 , 0.02516352, 0.        ,\n",
       "        0.03582288],\n",
       "       [0.06006087, 0.0534528 , 0.05304866, 0.01455084, 0.03582288,\n",
       "        0.        ]])"
      ]
     },
     "execution_count": 37,
     "metadata": {},
     "output_type": "execute_result"
    }
   ],
   "source": [
    "dist_matrix"
   ]
  },
  {
   "cell_type": "code",
   "execution_count": 10,
   "id": "cfb2cf58",
   "metadata": {},
   "outputs": [
    {
     "name": "stderr",
     "output_type": "stream",
     "text": [
      "C:\\Users\\hp\\AppData\\Local\\Temp\\ipykernel_11096\\2337145519.py:1: ClusterWarning: The symmetric non-negative hollow observation matrix looks suspiciously like an uncondensed distance matrix\n",
      "  z = linkage(dist_matrix, 'ward')\n"
     ]
    },
    {
     "data": {
      "image/png": "[encoded data removed]",
      "text/plain": [
       "<Figure size 500x300 with 1 Axes>"
      ]
     },
     "metadata": {},
     "output_type": "display_data"
    },
    {
     "data": {
      "text/plain": [
       "<Figure size 640x480 with 0 Axes>"
      ]
     },
     "metadata": {},
     "output_type": "display_data"
    }
   ],
   "source": [
    "z = linkage(dist_matrix, 'ward')\n",
    "f = fcluster(z,10000,'distance')\n",
    "plt.figure(figsize=(5, 3))\n",
    "dn = dendrogram(z, labels=['pgh2', 'ptgs1', 'lpo', 'mpo', 'tpo', 'epx'])\n",
    "plt.show()\n",
    "plt.savefig('embedding_for_msa.png', dpi = 600)"
   ]
  },
  {
   "cell_type": "code",
   "execution_count": null,
   "id": "4ac6cd75",
   "metadata": {},
   "outputs": [],
   "source": []
  }
 ],
 "metadata": {
  "kernelspec": {
   "display_name": "hf",
   "language": "python",
   "name": "python3"
  },
  "language_info": {
   "codemirror_mode": {
    "name": "ipython",
    "version": 3
   },
   "file_extension": ".py",
   "mimetype": "text/x-python",
   "name": "python",
   "nbconvert_exporter": "python",
   "pygments_lexer": "ipython3",
   "version": "3.11.0"
  }
 },
 "nbformat": 4,
 "nbformat_minor": 5
}

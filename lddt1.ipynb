{
 "cells": [
  {
   "cell_type": "code",
   "execution_count": 1,
   "id": "13ebf310",
   "metadata": {},
   "outputs": [],
   "source": [
    "from pymol import cmd\n",
    "import pandas as pd\n",
    "import torch\n",
    "import re\n",
    "device = torch.device('cuda' if torch.cuda.is_available() else 'cpu')"
   ]
  },
  {
   "cell_type": "code",
   "execution_count": 2,
   "id": "c40f6e31",
   "metadata": {},
   "outputs": [
    {
     "name": "stdout",
     "output_type": "stream",
     "text": [
      "549\n",
      "549\n"
     ]
    }
   ],
   "source": [
    "cmd.load('E:/Coding/jupyter_root/bioinfo_code/cox2.pdb')\n",
    "cmd.load('E:/Coding/jupyter_root/bioinfo_code/cox1.pdb')\n",
    "\n",
    "#select cox2_maskseq, cox2 and (resi -104 | resi 106-) and name CA\n",
    "print(cmd.select('cox2_maskseq', 'cox2 and (resi -104 | resi 106-) and name CA'))\n",
    "#select cox1_maskseq, (cox1 and resi 34-77 | resi 79-583) and name CA\n",
    "print(cmd.select('cox1_maskseq', 'cox1 and (resi 34-77 | resi 79-583) and name CA'))"
   ]
  },
  {
   "cell_type": "code",
   "execution_count": 3,
   "id": "8635c353",
   "metadata": {},
   "outputs": [
    {
     "name": "stdout",
     "output_type": "stream",
     "text": [
      "[[ 50.242  30.738  42.592]\n",
      " [ 53.561  29.109  43.6  ]\n",
      " [ 51.796  26.899  46.169]\n",
      " ...\n",
      " [ 30.03  -11.195  59.874]\n",
      " [ 28.349 -14.242  58.346]\n",
      " [ 28.147 -17.361  60.576]]\n"
     ]
    }
   ],
   "source": [
    "cmd.align('cox1_maskseq', 'cox2_maskseq')\n",
    "cox2_coor = cmd.get_coords('cox2_maskseq')\n",
    "cox1_coor = cmd.get_coords('cox1_maskseq')\n",
    "\n",
    "print(cox2_coor)"
   ]
  },
  {
   "cell_type": "code",
   "execution_count": 4,
   "id": "62b1d198",
   "metadata": {},
   "outputs": [
    {
     "name": "stdout",
     "output_type": "stream",
     "text": [
      "[[ 51.500004  29.938644  42.111294]\n",
      " [ 54.373127  28.247227  44.00754 ]\n",
      " [ 51.952248  26.33754   46.25969 ]\n",
      " ...\n",
      " [ 29.694786 -12.060076  60.234985]\n",
      " [ 27.99388  -14.998503  58.511497]\n",
      " [ 27.980455 -18.480463  60.12704 ]]\n"
     ]
    }
   ],
   "source": [
    "print(cox1_coor)"
   ]
  },
  {
   "cell_type": "code",
   "execution_count": 5,
   "id": "b5bd2f5b",
   "metadata": {},
   "outputs": [
    {
     "data": {
      "text/plain": [
       "tensor(0.0526)"
      ]
     },
     "execution_count": 5,
     "metadata": {},
     "output_type": "execute_result"
    }
   ],
   "source": [
    "def get_dist(coor1, coor2, cutoff=15, thresholds=[0.5, 1.0, 2.0, 4.0]):\n",
    "    \n",
    "    tensor_coor1 = torch.tensor(coor1, device=device)\n",
    "    tensor_coor2 = torch.tensor(coor2, device=device)\n",
    "    dist_obj1 = torch.cdist(tensor_coor1, tensor_coor1)\n",
    "    dist_obj2 = torch.cdist(tensor_coor2, tensor_coor2)\n",
    "    mask = (dist_obj1<cutoff)& (dist_obj1 > 0)\n",
    "    diff = torch.abs(tensor_coor1 - tensor_coor2)\n",
    "\n",
    "    scores = sum((diff < t) for t in thresholds)/len(thresholds)\n",
    "    scores = scores.sum(dim = -1) / mask.sum(dim = -1).clamp(min=1)\n",
    "    return scores.mean()\n",
    "\n",
    "s = get_dist(cox2_coor, cox1_coor)\n",
    "s"
   ]
  },
  {
   "cell_type": "code",
   "execution_count": 17,
   "id": "73a60e89",
   "metadata": {},
   "outputs": [
    {
     "data": {
      "text/plain": [
       "tensor(0.8922)"
      ]
     },
     "execution_count": 17,
     "metadata": {},
     "output_type": "execute_result"
    }
   ],
   "source": [
    "def lddt_masked(true_coords, model_coords, cutoff=15.0, thresholds=[0.5, 1.0, 2.0, 4.0]):\n",
    "    \"\"\"\n",
    "    true_coords, model_coords: (N, 3)\n",
    "    valid_mask: (N,) bool tensor, True 表示该位置有有效坐标\n",
    "    \"\"\"\n",
    "    true_coords = torch.tensor(true_coords, device=device)\n",
    "    model_coords = torch.tensor(model_coords, device=device)\n",
    "\n",
    "    d_true = torch.cdist(true_coords, true_coords)\n",
    "    d_model = torch.cdist(model_coords, model_coords)\n",
    "\n",
    "    mask = (d_true < cutoff) & (d_true > 0)\n",
    "    diff = torch.abs(d_true - d_model)\n",
    "\n",
    "    scores = sum((diff < t) & mask for t in thresholds) / len(thresholds)\n",
    "    scores = scores.sum(dim=-1) / mask.sum(dim=-1).clamp(min=1)\n",
    "    return scores.mean()\n",
    "l = lddt_masked(cox2_coor, cox1_coor)\n",
    "l"
   ]
  },
  {
   "cell_type": "code",
   "execution_count": null,
   "id": "bb64e24d",
   "metadata": {},
   "outputs": [],
   "source": []
  }
 ],
 "metadata": {
  "kernelspec": {
   "display_name": "pymol",
   "language": "python",
   "name": "python3"
  },
  "language_info": {
   "codemirror_mode": {
    "name": "ipython",
    "version": 3
   },
   "file_extension": ".py",
   "mimetype": "text/x-python",
   "name": "python",
   "nbconvert_exporter": "python",
   "pygments_lexer": "ipython3",
   "version": "3.12.7"
  }
 },
 "nbformat": 4,
 "nbformat_minor": 5
}

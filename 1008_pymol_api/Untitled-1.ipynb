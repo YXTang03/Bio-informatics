{
 "cells": [
  {
   "cell_type": "code",
   "execution_count": 1,
   "id": "f7cab9da",
   "metadata": {},
   "outputs": [],
   "source": [
    "from pymol import cmd, util, preset"
   ]
  },
  {
   "cell_type": "markdown",
   "id": "4b610c16",
   "metadata": {},
   "source": [
    "In the sequence panel select Arg247A by clicking on it. (Note that the residue below the first digit of the number is the one numbered as such. For example, residue 246 is the one under the \"2\" of 246. So, our Arg247 will be the \"R\" under the \"4\" of 246). You will see pink dots appear on the structure signifying the location of this residue."
   ]
  },
  {
   "cell_type": "markdown",
   "id": "e41a1d22",
   "metadata": {},
   "source": [
    "## Color by atoms:\n",
    "    util.cba{color}(selection)\n",
    "where {color} is a one letter color abbrivation, such as `g`(green) or `c`(cyan) or `o`(orange), etc."
   ]
  },
  {
   "cell_type": "markdown",
   "id": "aacd1451",
   "metadata": {},
   "source": [
    "## Zoom in a specific selection\n",
    "    zoom -selection_name"
   ]
  },
  {
   "cell_type": "code",
   "execution_count": null,
   "id": "73a22013",
   "metadata": {},
   "outputs": [],
   "source": []
  }
 ],
 "metadata": {
  "kernelspec": {
   "display_name": "pymol",
   "language": "python",
   "name": "python3"
  },
  "language_info": {
   "codemirror_mode": {
    "name": "ipython",
    "version": 3
   },
   "file_extension": ".py",
   "mimetype": "text/x-python",
   "name": "python",
   "nbconvert_exporter": "python",
   "pygments_lexer": "ipython3",
   "version": "3.12.7"
  }
 },
 "nbformat": 4,
 "nbformat_minor": 5
}

{
 "cells": [
  {
   "cell_type": "markdown",
   "id": "f8594c39",
   "metadata": {},
   "source": [
    "## **Uniprot**"
   ]
  },
  {
   "cell_type": "markdown",
   "id": "c9ea9998",
   "metadata": {},
   "source": [
    "### Compositions and sources\n",
    "\n",
    "#### Compositions\n",
    "- UniProtKB/Swiss-Prot (manually annotated and reviewed)\n",
    "- UniProtKB/TrEMBL (automatically annotated and not reviewed)\n",
    "\n",
    "#### Sources\n",
    "- Uniprot: all encapsulate\n",
    "- UniRef: Non-redundant\n",
    "- UniParc: Records previous status"
   ]
  },
  {
   "cell_type": "markdown",
   "id": "9de439b1",
   "metadata": {},
   "source": [
    "### Accession\n",
    "\n",
    "#### Representation: \n",
    " `reg exp: [OPQ][0-9][A-Z0-9]{3}[0-9]|[A-NR-Z][0-9]([A-Z][A-Z0-9]{2}[0-9]){1,2}`\n",
    "\n",
    " `Q10289: Q-1-028-9`\n",
    "\n",
    " `A2BC19：A-2-(B-C1-9)`\n",
    " \n",
    " `A0A023GPI8: A-0-(A-02-3)-(G-PI-8)`\n",
    "#### Accession Merge and Demerge\n"
   ]
  },
  {
   "cell_type": "markdown",
   "id": "4684140f",
   "metadata": {},
   "source": [
    "## **BLAST alignment**\n",
    "\n",
    "For both protein sequence alignment amd nucleotide sequence alignment."
   ]
  },
  {
   "cell_type": "markdown",
   "id": "b96c0dae",
   "metadata": {},
   "source": [
    "### BLAST Setup \n",
    "\n",
    "#### **Max target sequences**\n",
    "#### **Max matches in a query range**\n",
    "#### **Database:** \n",
    "\n",
    "- Clustered db like **UniRef90** and **UniRef50** are more prefered, where UniRef90 clusters sequences have 90% sequence identity. UniRef50 clusters sequences have 50% sequence identity. \n",
    "- RefSeq and Swiss-Prot\n",
    "\n",
    "#### **Scoring matrix:** \n",
    "https://en.wikipedia.org/wiki/Substitution_matrix \n",
    "\n",
    "https://www.ncbi.nlm.nih.gov/blast/html/sub_matrix.html\n"
   ]
  },
  {
   "cell_type": "markdown",
   "id": "5c356e11",
   "metadata": {},
   "source": [
    "### Result Interpretation: GenBank and Graphview\n",
    "\n",
    "View external information for each hit from the link to **GenBank** or **Graphview** (legend:https://www.ncbi.nlm.nih.gov/tools/sviewer/legends/#anchor_8)"
   ]
  },
  {
   "cell_type": "markdown",
   "id": "c4199cd7",
   "metadata": {},
   "source": [
    "### Result Interpretation: Layout\n",
    "\n",
    "|Organism|Blast Name|Score|Number of Hits|\n",
    "|---|---|---|---|\n",
    "|Relevant close to far, the most distantly-related taxon locates at the last second row| |Descending|Descending|"
   ]
  },
  {
   "cell_type": "markdown",
   "id": "7261aef6",
   "metadata": {},
   "source": [
    "### Result Interpretation: Parameters\n",
    "\n",
    "#### **Query Coverage**: The length of the match\n",
    "$$\n",
    "Coverage = \\frac {Alignment\\quad length} {Query\\quad sequence\\quad length} × 100\\%\n",
    "$$\n",
    "#### **Score**: \n",
    "\n",
    "#### **E-value:** The significance of the match.\n",
    "\n",
    "##### Formula to calculate\n",
    "$$\n",
    "E=K \\times m \\times n \\times e^ {-lambda\\times S}\n",
    "$$\n",
    "\n",
    "Where *S* denotes the homolog scores between two sequences, *m* denotes the length of the target sequence, *n* denotes the size of database, and *K* and *n* are parameters depending on algorithm and database.\n",
    "\n",
    "##### Values\n",
    "\n",
    "- E-value < 0.01: commonly considered significant, but there are features of biological sequences which can confound this so care is advised\n",
    "\n",
    "- E-value < 1e-5: usually homologues\n",
    "\n",
    "- E-value > 0.01: doesn't necessarily mean a hit is false\n",
    "\n",
    "- E-values are normalized basing on each database, only E-values from the same db are comparable.\n",
    "\n",
    "- Bit scores between BLAST searches with different query sequences are not comparable.\n",
    "\n",
    "#### **Length of hit**\n",
    "> It is possible to get good (i.e. small) e-values even if only a small regions of your query sequence is matched by a hit. In such instances you might consider very short matches as False Positives, even when the e-values are below the values you're looking for.\n"
   ]
  },
  {
   "cell_type": "markdown",
   "id": "e4081139",
   "metadata": {},
   "source": [
    "### Other BLAST algorithm\n",
    "\n",
    "|Search Programme|Query|Hit|\n",
    "|---|---|---|\n",
    "|BLASTX|Input nucleotide, translate/ map to protein|Protein db|\n",
    "|TBLASTN|Input protein|Nucleotide db, map to protein| \n",
    "|TBLASTX|Input nucleotide, map to protein|Nucleotide db, map to protein|"
   ]
  },
  {
   "cell_type": "markdown",
   "id": "1134a5a9",
   "metadata": {},
   "source": [
    "### Result inspection:\n",
    "\n",
    "Check the organism of query and hit.\n",
    "\n",
    "Hit has high bit score but presents in a irrelevant organism might be a FP."
   ]
  },
  {
   "cell_type": "markdown",
   "id": "c7a5cc4b",
   "metadata": {},
   "source": [
    "## **MSA**\n",
    "\n"
   ]
  }
 ],
 "metadata": {
  "language_info": {
   "name": "python"
  }
 },
 "nbformat": 4,
 "nbformat_minor": 5
}

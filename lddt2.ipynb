{
 "cells": [
  {
   "cell_type": "code",
   "execution_count": 35,
   "id": "cbd60005",
   "metadata": {},
   "outputs": [],
   "source": [
    "import numpy as np\n",
    "import re\n",
    "from pymol import cmd"
   ]
  },
  {
   "cell_type": "code",
   "execution_count": 25,
   "id": "0a95a9f0",
   "metadata": {},
   "outputs": [],
   "source": [
    "class NW():\n",
    "    def __init__(\n",
    "            self, seqa:str, seqb:str, \n",
    "            match, mismatch, gap\n",
    "    ):\n",
    "        self.seqa = seqa\n",
    "        self.seqb = seqb\n",
    "        self.match_score = match\n",
    "        self.mismatch_score = mismatch\n",
    "        self.gap_score = gap\n",
    "        self.matrix = np.zeros((len(seqa)+1, len(seqb)+1))\n",
    "        self.matrix.fill(np.inf)\n",
    "        self.matrix[:, 0] = [self.gap_score * i for i in range(self.matrix.shape[0])]\n",
    "        self.matrix[0, :] = [self.gap_score * j for j in range(self.matrix.shape[1])]\n",
    "\n",
    "                \n",
    "    def _scoring(self):\n",
    "        for row_idx, i in enumerate(self.matrix):\n",
    "            for col_idx, j in enumerate(i):\n",
    "                \n",
    "                if j != np.inf:\n",
    "                    pass\n",
    "                else:\n",
    "                    '''\n",
    "                    lt: right top (diagonal)\n",
    "                    lt_: rt + match or mismatch\n",
    "                    rb: right bottom\n",
    "                    lt: left top\n",
    "                    '''\n",
    "                    lt = self.matrix[row_idx-1, col_idx-1]\n",
    "                    lt_ = lt + self.match_score if self.seqa[row_idx-1] == self.seqb[col_idx-1] else lt + self.mismatch_score\n",
    "                    \n",
    "                    lb = self.matrix[row_idx, col_idx-1]\n",
    "                    rt = self.matrix[row_idx-1, col_idx]\n",
    "\n",
    "                    score = np.max([lt_, lb+self.gap_score, rt+self.gap_score])\n",
    "\n",
    "                    self.matrix[row_idx, col_idx] = score\n",
    "\n",
    "        return self.matrix\n",
    "    \n",
    "    def _traceback(self,):\n",
    "        seqa_output, seqb_output = [], []\n",
    "        row = self.matrix.shape[0] - 1\n",
    "        col = self.matrix.shape[1] - 1\n",
    "\n",
    "        while row > 0 or col > 0:\n",
    "\n",
    "            # How N&W gets rid of local optimum\n",
    "\n",
    "            #print(f'row: {row}, col: {col}')\n",
    "            current_score = self.matrix[row, col]\n",
    "\n",
    "            if row > 0 and col >0:\n",
    "                #match_val = self.match_score if self.seqa[row-1] == self.seqb[col-1] else self.mismatch_score\n",
    "                match_val = self.match_score if self.seqa[row-1] == self.seqb[col-1] else self.mismatch_score\n",
    "                #print(match_val)\n",
    "                if current_score == self.matrix[row-1, col - 1] + match_val:\n",
    "                    seqa_output.append(self.seqa[row-1])\n",
    "                    seqb_output.append(self.seqb[col-1])\n",
    "                    \n",
    "                    row -= 1\n",
    "                    col -= 1\n",
    "                    continue\n",
    "                \n",
    "            if col>0 and current_score == self.matrix[row, col - 1] + self.gap_score:\n",
    "                seqa_output.append('-')\n",
    "                seqb_output.append(self.seqb[col-1])\n",
    "                col -= 1\n",
    "                continue\n",
    "\n",
    "            if row > 0 and current_score == self.matrix[row - 1, col] + self.gap_score:\n",
    "                \n",
    "                seqa_output.append(self.seqa[row-1])\n",
    "                seqb_output.append('-')\n",
    "                row -= 1\n",
    "                \n",
    "                continue\n",
    "\n",
    "                \n",
    "        seqa_output.reverse(), seqb_output.reverse()\n",
    "        return seqa_output, seqb_output\n",
    "    \n",
    "    def align(self):\n",
    "        score_matrix = self._scoring()\n",
    "        #print(score_matrix)\n",
    "        seqa_output, seqb_output = self._traceback()\n",
    "        return seqa_output, seqb_output"
   ]
  },
  {
   "cell_type": "code",
   "execution_count": 21,
   "id": "89947241",
   "metadata": {},
   "outputs": [],
   "source": [
    "with open('F:/coxpdb.txt', 'r') as f:\n",
    "    content = f.read()\n",
    "    sequences = re.findall('>.*\\n(.*)', content)\n",
    "\n",
    "seq1 = ''\n",
    "seq2 = ''\n",
    "for i in range(len(sequences[0])):\n",
    "    if sequences[0][i] != '-' and sequences[1][i] !='-':\n",
    "        seq1 += sequences[0][i]\n",
    "        seq2 += sequences[1][i]"
   ]
  },
  {
   "cell_type": "code",
   "execution_count": 28,
   "id": "311713b3",
   "metadata": {},
   "outputs": [
    {
     "name": "stdout",
     "output_type": "stream",
     "text": [
      "['-', '-', '-', '-', '-', '-', 'N', 'P', 'C', 'C', 'S', 'H', 'P', 'C', 'Q', 'N', 'R', 'G', 'V', 'C', 'M', 'S', 'V', 'G', 'F', 'D', 'Q', 'Y', 'K', 'C', 'D', 'C', 'T', 'R', 'T', 'G', 'F', 'Y', 'G', 'E', 'N', 'C', 'S', 'T', 'P', 'E', 'F', 'L', 'T', 'R', 'I', 'K', 'L', 'F', 'L', 'K', 'P', 'T', 'P', 'N', 'T', 'V', 'H', 'Y', 'I', 'L', 'T', 'H', 'F', 'K', 'G', 'F', 'W', 'N', 'V', 'V', 'N', 'N', 'I', 'P', 'F', 'L', 'R', 'N', 'A', 'I', 'M', 'S', 'Y', 'V', 'L', 'T', 'S', 'R', 'S', 'H', 'L', 'I', 'D', 'S', 'P', 'P', 'T', 'Y', 'N', 'A', 'D', 'Y', 'G', 'Y', 'K', 'S', 'W', 'E', 'A', 'F', 'S', 'N', 'L', 'S', 'Y', 'Y', 'T', 'R', 'A', 'L', 'P', 'P', 'V', 'P', 'D', 'D', 'C', 'P', 'T', 'P', 'L', 'G', 'V', 'K', 'G', 'K', 'K', 'Q', 'L', 'P', 'D', 'S', 'N', 'E', 'I', 'V', 'E', 'K', 'L', 'L', 'L', 'R', 'R', 'K', 'F', 'I', 'P', 'D', 'P', 'Q', 'G', 'S', 'N', 'M', 'M', 'F', 'A', 'F', 'F', 'A', 'Q', 'H', 'F', 'T', 'H', 'Q', 'F', 'F', 'K', 'T', 'D', 'H', 'K', 'R', 'G', 'P', 'A', 'F', 'T', 'N', 'G', 'L', 'G', 'H', 'G', 'V', 'D', 'L', 'N', 'H', 'I', 'Y', 'G', 'E', 'T', 'L', 'A', 'R', 'Q', 'R', 'K', 'L', 'R', 'L', 'F', 'K', 'D', 'G', 'K', 'M', 'K', 'Y', 'Q', 'I', 'I', 'D', 'G', 'E', 'M', 'Y', 'P', 'P', 'T', 'V', 'K', 'D', 'T', 'Q', 'A', 'E', 'M', 'I', 'Y', 'P', 'P', 'Q', 'V', 'P', 'E', 'H', 'L', 'R', 'F', 'A', 'V', 'G', 'Q', 'E', 'V', 'F', 'G', 'L', 'V', 'P', 'G', 'L', 'M', 'M', 'Y', 'A', 'T', 'I', 'W', 'L', 'R', 'E', 'H', 'N', 'R', 'V', 'C', 'D', 'V', 'L', 'K', 'Q', 'E', 'H', 'P', 'E', 'W', 'G', 'D', 'E', 'Q', 'L', 'F', 'Q', 'T', 'S', 'R', 'L', 'I', 'L', 'I', 'G', 'E', 'T', 'I', 'K', 'I', 'V', 'I', 'E', 'D', 'Y', 'V', 'Q', 'H', 'L', 'S', 'G', 'Y', 'H', 'F', 'K', 'L', 'K', 'F', 'D', 'P', 'E', 'L', 'L', 'F', 'N', 'K', 'Q', 'F', 'Q', 'Y', 'Q', 'N', 'R', 'I', 'A', 'A', 'E', 'F', 'N', 'T', 'L', 'Y', 'H', 'W', 'H', 'P', 'L', 'L', 'P', 'D', 'T', 'F', 'Q', 'I', 'H', 'D', 'Q', 'K', 'Y', 'N', 'Y', 'Q', 'Q', 'F', 'I', 'Y', 'N', 'N', 'S', 'I', 'L', 'L', 'E', 'H', 'G', 'I', 'T', 'Q', 'F', 'V', 'E', 'S', 'F', 'T', 'R', 'Q', 'I', 'A', 'G', 'R', 'V', 'A', 'G', 'G', 'R', 'N', 'V', 'P', 'P', 'A', 'V', 'Q', 'K', 'V', 'S', 'Q', 'A', 'S', 'I', 'D', 'Q', 'S', 'R', 'Q', 'M', 'K', 'Y', 'Q', 'S', 'F', 'N', 'E', 'Y', 'R', 'K', 'R', 'F', 'M', 'L', 'K', 'P', 'Y', 'E', 'S', 'F', 'E', 'E', 'L', 'T', 'G', 'E', 'K', 'E', 'M', 'S', 'A', 'E', 'L', 'E', 'A', 'L', 'Y', 'G', 'D', 'I', 'D', 'A', 'V', 'E', 'L', 'Y', 'P', 'A', 'L', 'L', 'V', 'E', 'K', 'P', 'R', 'P', 'D', 'A', 'I', 'F', 'G', 'E', 'T', 'M', 'V', 'E', 'V', 'G', 'A', 'P', 'F', 'S', 'L', 'K', 'G', 'L', 'M', 'G', 'N', 'V', 'I', 'C', 'S', 'P', 'A', 'Y', 'W', 'K', 'P', 'S', 'T', 'F', 'G', 'G', 'E', 'V', 'G', 'F', 'Q', 'I', 'I', 'N', 'T', 'A', 'S', 'I', 'Q', 'S', 'L', 'I', 'C', 'N', 'N', 'V', 'K', 'G', 'C', 'P', 'F', 'T', 'S', 'F', 'S', 'V', 'P'] ['G', 'A', 'P', 'T', 'P', 'V', 'N', 'P', 'C', 'C', 'Y', 'Y', 'P', 'C', 'Q', 'H', 'Q', 'G', 'I', 'C', 'V', 'R', 'F', 'G', 'L', 'D', 'R', 'Y', 'Q', 'C', 'D', 'C', 'T', 'R', 'T', 'G', 'Y', 'S', 'G', 'P', 'N', 'C', 'T', 'I', 'P', 'G', 'L', 'W', 'T', 'W', 'L', 'R', 'N', 'S', 'L', 'R', 'P', 'S', 'P', 'S', 'F', 'T', 'H', 'F', 'L', 'L', 'T', 'H', 'G', 'R', 'W', 'F', 'W', 'E', 'F', 'V', '-', 'N', 'A', 'T', 'F', 'I', 'R', 'E', 'M', 'L', 'M', 'R', 'L', 'V', 'L', 'T', 'V', 'R', 'S', 'N', 'L', 'I', 'P', 'S', 'P', 'P', 'T', 'Y', 'N', 'S', 'A', 'H', 'D', 'Y', 'I', 'S', 'W', 'E', 'S', 'F', 'S', 'N', 'V', 'S', 'Y', 'Y', 'T', 'R', 'I', 'L', 'P', 'S', 'V', 'P', 'K', 'D', 'C', 'P', 'T', 'P', 'M', 'G', 'T', 'K', 'G', 'K', 'K', 'Q', 'L', 'P', 'D', 'A', 'Q', 'L', 'L', 'A', 'R', 'R', 'F', 'L', 'L', 'R', 'R', 'K', 'F', 'I', 'P', 'D', 'P', 'Q', 'G', 'T', 'N', 'L', 'M', 'F', 'A', 'F', 'F', 'A', 'Q', 'H', 'F', 'T', 'H', 'Q', 'F', 'F', 'K', 'T', 'S', 'G', 'K', 'M', 'G', 'P', 'G', 'F', 'T', 'K', 'A', 'L', 'G', 'H', 'G', 'V', 'D', 'L', 'G', 'H', 'I', 'Y', 'G', 'D', 'N', 'L', 'E', 'R', 'Q', 'Y', 'Q', 'L', 'R', 'L', 'F', 'K', 'D', 'G', 'K', 'L', 'K', 'Y', 'Q', 'V', 'L', 'D', 'G', 'E', 'M', 'Y', 'P', 'P', 'S', 'V', 'E', 'E', 'A', 'P', 'V', 'L', 'M', 'H', 'Y', 'P', 'R', 'G', 'I', 'P', 'P', 'Q', 'S', 'Q', 'M', 'A', 'V', 'G', 'Q', 'E', 'V', 'F', 'G', 'L', 'L', 'P', 'G', 'L', 'M', 'L', 'Y', 'A', 'T', 'L', 'W', 'L', 'R', 'E', 'H', 'N', 'R', 'V', 'C', 'D', 'L', 'L', 'K', 'A', 'E', 'H', 'P', 'T', 'W', 'G', 'D', 'E', 'Q', 'L', 'F', 'Q', 'T', 'T', 'R', 'L', 'I', 'L', 'I', 'G', 'E', 'T', 'I', 'K', 'I', 'V', 'I', 'E', 'E', 'Y', 'V', 'Q', 'Q', 'L', 'S', 'G', 'Y', 'F', 'L', 'Q', 'L', 'K', 'F', 'D', 'P', 'E', 'L', 'L', 'F', 'G', 'V', 'Q', 'F', 'Q', 'Y', 'R', 'N', 'R', 'I', 'A', 'M', 'E', 'F', 'N', 'H', 'L', 'Y', 'H', 'W', 'H', 'P', 'L', 'M', 'P', 'D', 'S', 'F', 'K', 'V', 'G', 'S', 'Q', 'E', 'Y', 'S', 'Y', 'E', 'Q', 'F', 'L', 'F', 'N', 'T', 'S', 'M', 'L', 'V', 'D', 'Y', 'G', 'V', 'E', 'A', 'L', 'V', 'D', 'A', 'F', 'S', 'R', 'Q', 'I', 'A', 'G', 'R', 'I', 'G', 'G', 'G', 'R', 'N', 'M', 'D', 'H', 'H', 'I', 'L', 'H', 'V', 'A', 'V', 'D', 'V', 'I', 'R', 'E', 'S', 'R', 'E', 'M', 'R', 'L', 'Q', 'P', 'F', 'N', 'E', 'Y', 'R', 'K', 'R', 'F', 'G', 'M', 'K', 'P', 'Y', 'T', 'S', 'F', 'Q', 'E', 'L', 'V', 'G', 'E', 'K', 'E', 'M', 'A', 'A', 'E', 'L', 'E', 'E', 'L', 'Y', 'G', 'D', 'I', 'D', 'A', 'L', 'E', 'F', 'Y', 'P', 'G', 'L', 'L', 'L', 'E', 'K', 'C', 'H', 'P', 'N', 'S', 'I', 'F', 'G', 'E', 'S', 'M', 'I', 'E', 'I', 'G', 'A', 'P', 'F', 'S', 'L', 'K', 'G', 'L', 'L', 'G', 'N', 'P', 'I', 'C', 'S', 'P', 'E', 'Y', 'W', 'K', 'P', 'S', 'T', 'F', 'G', 'G', 'E', 'V', 'G', 'F', 'N', 'I', 'V', 'K', 'T', 'A', 'T', 'L', 'K', 'K', 'L', 'V', 'C', 'L', 'N', 'T', 'K', 'T', 'C', 'P', '-', '-', '-', '-', 'Y', 'V', '-']\n"
     ]
    }
   ],
   "source": [
    "nw = NW(seq1, seq2,match=1, mismatch=-1, gap=-2)\n",
    "m,n = nw.align()\n",
    "print(m, n)"
   ]
  },
  {
   "cell_type": "code",
   "execution_count": 32,
   "id": "b93135fb",
   "metadata": {},
   "outputs": [
    {
     "data": {
      "text/plain": [
       "'------NPCCSHPCQNRGVCMSVGFDQYKCDCTRTGFYGENCSTPEFLTRIKLFLKPTPNTVHYILTHFKGFWNVVNNIPFLRNAIMSYVLTSRSHLIDSPPTYNADYGYKSWEAFSNLSYYTRALPPVPDDCPTPLGVKGKKQLPDSNEIVEKLLLRRKFIPDPQGSNMMFAFFAQHFTHQFFKTDHKRGPAFTNGLGHGVDLNHIYGETLARQRKLRLFKDGKMKYQIIDGEMYPPTVKDTQAEMIYPPQVPEHLRFAVGQEVFGLVPGLMMYATIWLREHNRVCDVLKQEHPEWGDEQLFQTSRLILIGETIKIVIEDYVQHLSGYHFKLKFDPELLFNKQFQYQNRIAAEFNTLYHWHPLLPDTFQIHDQKYNYQQFIYNNSILLEHGITQFVESFTRQIAGRVAGGRNVPPAVQKVSQASIDQSRQMKYQSFNEYRKRFMLKPYESFEELTGEKEMSAELEALYGDIDAVELYPALLVEKPRPDAIFGETMVEVGAPFSLKGLMGNVICSPAYWKPSTFGGEVGFQIINTASIQSLICNNVKGCPFTSFSVP'"
      ]
     },
     "execution_count": 32,
     "metadata": {},
     "output_type": "execute_result"
    }
   ],
   "source": [
    "seperator = ''\n",
    "seperator.join(m)"
   ]
  },
  {
   "cell_type": "code",
   "execution_count": 33,
   "id": "a509a9de",
   "metadata": {},
   "outputs": [
    {
     "data": {
      "text/plain": [
       "'GAPTPVNPCCYYPCQHQGICVRFGLDRYQCDCTRTGYSGPNCTIPGLWTWLRNSLRPSPSFTHFLLTHGRWFWEFV-NATFIREMLMRLVLTVRSNLIPSPPTYNSAHDYISWESFSNVSYYTRILPSVPKDCPTPMGTKGKKQLPDAQLLARRFLLRRKFIPDPQGTNLMFAFFAQHFTHQFFKTSGKMGPGFTKALGHGVDLGHIYGDNLERQYQLRLFKDGKLKYQVLDGEMYPPSVEEAPVLMHYPRGIPPQSQMAVGQEVFGLLPGLMLYATLWLREHNRVCDLLKAEHPTWGDEQLFQTTRLILIGETIKIVIEEYVQQLSGYFLQLKFDPELLFGVQFQYRNRIAMEFNHLYHWHPLMPDSFKVGSQEYSYEQFLFNTSMLVDYGVEALVDAFSRQIAGRIGGGRNMDHHILHVAVDVIRESREMRLQPFNEYRKRFGMKPYTSFQELVGEKEMAAELEELYGDIDALEFYPGLLLEKCHPNSIFGESMIEIGAPFSLKGLLGNPICSPEYWKPSTFGGEVGFNIVKTATLKKLVCLNTKTCP----YV-'"
      ]
     },
     "execution_count": 33,
     "metadata": {},
     "output_type": "execute_result"
    }
   ],
   "source": [
    "seperator.join(n)"
   ]
  },
  {
   "cell_type": "code",
   "execution_count": 36,
   "id": "7200f418",
   "metadata": {},
   "outputs": [
    {
     "name": "stdout",
     "output_type": "stream",
     "text": [
      "Load models from local files.\n"
     ]
    }
   ],
   "source": [
    "try:\n",
    "    cmd.load('cox1.pdb')\n",
    "    cmd.load('cox2.pdb')\n",
    "    print('Load models from local files.')\n",
    "except:\n",
    "    cmd.fetch('6y3c')\n",
    "    cmd.fetch('5ikr')\n",
    "    cmd.set_name('5ikr', 'cox2')\n",
    "    cmd.set_name('6y3c', 'cox1')\n",
    "    print(f'Chain labels on Cox2{cmd.get_chains('cox2')}')\n",
    "    cmd.remove('organic')\n",
    "    cmd.remove('inorganic')\n",
    "    cmd.remove('solvent')\n",
    "    cmd.remove('cox2 and chain B')\n",
    "    cmd.remove('hydrogens')\n",
    "    print(f'Chain labels on Cox2 (monomer){cmd.get_chains('cox2')}')\n",
    "    print(f'Chain labels on Cox1{cmd.get_chains('cox1')}')\n",
    "    cmd.save('cox1.pdb', 'cox1')\n",
    "    cmd.save('cox2.pdb', 'cox2')\n",
    "finally:\n",
    "    c1 = cmd.get_model('cox1')\n",
    "    c2 = cmd.get_model('cox2')"
   ]
  },
  {
   "cell_type": "code",
   "execution_count": 50,
   "id": "11530c56",
   "metadata": {},
   "outputs": [
    {
     "data": {
      "text/plain": [
       "['GAPTPVNPCCYYPCQHQGICVRFGLDRYQCDCTRTGYSGPNCTIPGLWTWLRNSLRPSPSFTHFLLTHGRWFWEFVNATFIREMLMRLVLTVRSNLIPSPPTYNSAHDYISWESFSNVSYYTRILPSVPKDCPTPMGTKGKKQLPDAQLLARRFLLRRKFIPDPQGTNLMFAFFAQHFTHQFFKTSGKMGPGFTKALGHGVDLGHIYGDNLERQYQLRLFKDGKLKYQVLDGEMYPPSVEEAPVLMHYPRGIPPQSQMAVGQEVFGLLPGLMLYATLWLREHNRVCDLLKAEHPTWGDEQLFQTTRLILIGETIKIVIEEYVQQLSGYFLQLKFDPELLFGVQFQYRNRIAMEFNHLYHWHPLMPDSFKVGSQEYSYEQFLFNTSMLVDYGVEALVDAFSRQIAGRIGGGRNMDHHILHVAVDVIRESREMRLQPFNEYRKRFGMKPYTSFQELVGEKEMAAELEELYGDIDALEFYPGLLLEKCHPNSIFGESMIEIGAPFSLKGLLGNPICSPEYWKPSTFGGEVGFNIVKTATLKKLVCLNTKTCPYVSFRVPD',\n",
       " 'NPCCSHPCQNRGVCMSVGFDQYKCDCTRTGFYGENCSTPEFLTRIKLFLKPTPNTVHYILTHFKGFWNVVNNIPFLRNAIMSYVLTSRSHLIDSPPTYNADYGYKSWEAFSNLSYYTRALPPVPDDCPTPLGVKGKKQLPDSNEIVEKLLLRRKFIPDPQGSNMMFAFFAQHFTHQFFKTDHKRGPAFTNGLGHGVDLNHIYGETLARQRKLRLFKDGKMKYQIIDGEMYPPTVKDTQAEMIYPPQVPEHLRFAVGQEVFGLVPGLMMYATIWLREHNRVCDVLKQEHPEWGDEQLFQTSRLILIGETIKIVIEDYVQHLSGYHFKLKFDPELLFNKQFQYQNRIAAEFNTLYHWHPLLPDTFQIHDQKYNYQQFIYNNSILLEHGITQFVESFTRQIAGRVAGGRNVPPAVQKVSQASIDQSRQMKYQSFNEYRKRFMLKPYESFEELTGEKEMSAELEALYGDIDAVELYPALLVEKPRPDAIFGETMVEVGAPFSLKGLMGNVICSPAYWKPSTFGGEVGFQIINTASIQSLICNNVKGCPFTSFSVP']"
      ]
     },
     "execution_count": 50,
     "metadata": {},
     "output_type": "execute_result"
    }
   ],
   "source": [
    "class lDDT():\n",
    "\n",
    "    def __init__(self, objects:list, obj_names:list, cutoff:int|float, thresholds:list):\n",
    "        self.all_objects = objects\n",
    "        self.all_names = obj_names\n",
    "        for i, o in enumerate(objects):\n",
    "            obj_name = f'obj{i}'\n",
    "            setattr(self, obj_name , o)\n",
    "\n",
    "        self.cutoff = cutoff\n",
    "        self.thresholds = thresholds\n",
    "\n",
    "    @property\n",
    "    def fasta(self):\n",
    "        all_fasta = []\n",
    "        for name in self.all_names:\n",
    "            obj_fasta = cmd.get_fastastr(f'{name}')\n",
    "            obj_fasta = re.findall(r'\\n(\\w*)', obj_fasta)\n",
    "            seperator = ''\n",
    "            obj_fasta = seperator.join(obj_fasta)\n",
    "            all_fasta.append(obj_fasta)\n",
    "        return all_fasta\n",
    "    \n",
    "    def read_fasta(self):\n",
    "        with open('F:/coxpdb.txt', 'r') as f:\n",
    "            content = f.read()\n",
    "            sequences = re.findall('>.*\\n(.*)', content)\n",
    "\n",
    "        seq1 = ''\n",
    "        seq2 = ''\n",
    "        for i in range(len(sequences[0])):\n",
    "            if sequences[0][i] != '-' and sequences[1][i] !='-':\n",
    "                seq1 += sequences[0][i]\n",
    "                seq2 += sequences[1][i]\n",
    "\n",
    "        return seq1, seq2\n",
    "\n",
    "    def sequence_alignment(self, method='NW', match=1, mismatch=-1, gap=-2):\n",
    "        if method == 'NW':\n",
    "            nw = NW(*self.fasta,match=match, mismatch=mismatch, gap=gap)\n",
    "            seq1_,seq2_ = nw.align()\n",
    "            seperator = ''\n",
    "            seq1_ = seperator.join(seq1_)\n",
    "            seq2_ = seperator.join(seq2_)\n",
    "            return seq1_, seq2_\n",
    "        \n",
    "    def res_selection(self):\n",
    "        pass\n",
    "\n",
    "\n",
    "l = lDDT([c1, c2], ['cox1', 'cox2'], cutoff=15, thresholds=[0.5, 1.0, 2.0, 4.0])\n",
    "l.fasta\n",
    "            \n",
    "\n"
   ]
  },
  {
   "cell_type": "code",
   "execution_count": 52,
   "id": "70d0d52d",
   "metadata": {},
   "outputs": [
    {
     "data": {
      "text/plain": [
       "('GAPTPVNPCCYYPCQHQGICVRFGLDRYQCDCTRTGYSGPNCTIPGLWTWLRNSLRPSPSFTHFLLTHGRWFWEFV-NATFIREMLMRLVLTVRSNLIPSPPTYNSAHDYISWESFSNVSYYTRILPSVPKDCPTPMGTKGKKQLPDAQLLARRFLLRRKFIPDPQGTNLMFAFFAQHFTHQFFKTSGKMGPGFTKALGHGVDLGHIYGDNLERQYQLRLFKDGKLKYQVLDGEMYPPSVEEAPVLMHYPRGIPPQSQMAVGQEVFGLLPGLMLYATLWLREHNRVCDLLKAEHPTWGDEQLFQTTRLILIGETIKIVIEEYVQQLSGYFLQLKFDPELLFGVQFQYRNRIAMEFNHLYHWHPLMPDSFKVGSQEYSYEQFLFNTSMLVDYGVEALVDAFSRQIAGRIGGGRNMDHHILHVAVDVIRESREMRLQPFNEYRKRFGMKPYTSFQELVGEKEMAAELEELYGDIDALEFYPGLLLEKCHPNSIFGESMIEIGAPFSLKGLLGNPICSPEYWKPSTFGGEVGFNIVKTATLKKLVCLNTKTCPYVSFRVPD',\n",
       " '------NPCCSHPCQNRGVCMSVGFDQYKCDCTRTGFYGENCSTPEFLTRIKLFLKPTPNTVHYILTHFKGFWNVVNNIPFLRNAIMSYVLTSRSHLIDSPPTYNADYGYKSWEAFSNLSYYTRALPPVPDDCPTPLGVKGKKQLPDSNEIVEKLLLRRKFIPDPQGSNMMFAFFAQHFTHQFFKTDHKRGPAFTNGLGHGVDLNHIYGETLARQRKLRLFKDGKMKYQIIDGEMYPPTVKDTQAEMIYPPQVPEHLRFAVGQEVFGLVPGLMMYATIWLREHNRVCDVLKQEHPEWGDEQLFQTSRLILIGETIKIVIEDYVQHLSGYHFKLKFDPELLFNKQFQYQNRIAAEFNTLYHWHPLLPDTFQIHDQKYNYQQFIYNNSILLEHGITQFVESFTRQIAGRVAGGRNVPPAVQKVSQASIDQSRQMKYQSFNEYRKRFMLKPYESFEELTGEKEMSAELEALYGDIDAVELYPALLVEKPRPDAIFGETMVEVGAPFSLKGLMGNVICSPAYWKPSTFGGEVGFQIINTASIQSLICNNVKGCPFTSFSVP-')"
      ]
     },
     "execution_count": 52,
     "metadata": {},
     "output_type": "execute_result"
    }
   ],
   "source": [
    "l.sequence_alignment()"
   ]
  },
  {
   "cell_type": "code",
   "execution_count": null,
   "id": "54555d98",
   "metadata": {},
   "outputs": [],
   "source": [
    "t = '>cox1_A\\nGAPTPVNPCCYYPCQHQGICVRFGLDRYQCDCTRTGYSGPNCTIPGLWTWLRNSLRPSPSFTHFLLTHGR\\nWFWEFVNATFIREMLMRLVLTVRSNLIPSPPTYNSAHDYISWESFSNVSYYTRILPSVPKDCPTPMGTKG\\nKKQLPDAQLLARRFLLRRKFIPDPQGTNLMFAFFAQHFTHQFFKTSGKMGPGFTKALGHGVDLGHIYGDN\\nLERQYQLRLFKDGKLKYQVLDGEMYPPSVEEAPVLMHYPRGIPPQSQMAVGQEVFGLLPGLMLYATLWLR\\nEHNRVCDLLKAEHPTWGDEQLFQTTRLILIGETIKIVIEEYVQQLSGYFLQLKFDPELLFGVQFQYRNRI\\nAMEFNHLYHWHPLMPDSFKVGSQEYSYEQFLFNTSMLVDYGVEALVDAFSRQIAGRIGGGRNMDHHILHV\\nAVDVIRESREMRLQPFNEYRKRFGMKPYTSFQELVGEKEMAAELEELYGDIDALEFYPGLLLEKCHPNSI\\nFGESMIEIGAPFSLKGLLGNPICSPEYWKPSTFGGEVGFNIVKTATLKKLVCLNTKTCPYVSFRVPD\\n'\n"
   ]
  },
  {
   "cell_type": "code",
   "execution_count": null,
   "id": "4df1ab31",
   "metadata": {},
   "outputs": [],
   "source": [
    "class lDDT():\n",
    "\n",
    "    # variable interpretation:\n",
    "    # o, obj: pdb object\n",
    "\n",
    "    def __init__(self, *obj, cutoff, thresholds):\n",
    "        self.all_objects = obj\n",
    "\n",
    "        for i, o in enumerate(obj):\n",
    "            obj_name = f'obj{i}'\n",
    "            setattr(self, obj_name , o)\n",
    "\n",
    "        self.cutoff = cutoff\n",
    "        self.thresholds = thresholds\n",
    "\n",
    "    @property\n",
    "    def fasta(self):\n",
    "        all_fastas = []\n",
    "        for object in self.all_objects:\n",
    "            fasta = \n",
    "\n",
    "    @property\n",
    "    def element_names(self):\n",
    "        all_names = []\n",
    "        for object in self.all_objects:\n",
    "            name_list = [object.atom[i].name for i in range(len(object.atom))]\n",
    "            all_names.append(name_list)\n",
    "        return all_names\n",
    "    \n",
    "    @property\n",
    "    def coordinates(self):\n",
    "        all_coords = []\n",
    "        for object in self.all_objects:\n",
    "            coord_list = [object.atom[i].coord for i in range(len(object.atom))]\n",
    "            all_coords.append(coord_list)\n",
    "        return all_coords"
   ]
  }
 ],
 "metadata": {
  "kernelspec": {
   "display_name": "ML_and_DL",
   "language": "python",
   "name": "python3"
  },
  "language_info": {
   "codemirror_mode": {
    "name": "ipython",
    "version": 3
   },
   "file_extension": ".py",
   "mimetype": "text/x-python",
   "name": "python",
   "nbconvert_exporter": "python",
   "pygments_lexer": "ipython3",
   "version": "3.12.8"
  }
 },
 "nbformat": 4,
 "nbformat_minor": 5
}

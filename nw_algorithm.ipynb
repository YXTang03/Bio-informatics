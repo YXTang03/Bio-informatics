{
 "cells": [
  {
   "cell_type": "code",
   "execution_count": 1,
   "id": "acd4deb5",
   "metadata": {},
   "outputs": [],
   "source": [
    "import numpy as np"
   ]
  },
  {
   "cell_type": "code",
   "execution_count": 9,
   "id": "a1eea1b0",
   "metadata": {},
   "outputs": [
    {
     "name": "stdout",
     "output_type": "stream",
     "text": [
      "[[ 0. -1. -2. -3.]\n",
      " [-1.  1.  0. -1.]\n",
      " [-2.  0.  0. -1.]\n",
      " [-3. -1. -1.  1.]]\n",
      "{-1.0: (2, 3), 0.0: (2, 2)}\n",
      "{0.0: (1, 2), 1.0: (1, 1)}\n",
      "[1.0, 0.0, 1.0]\n"
     ]
    }
   ],
   "source": [
    "seqa = 'ALH'\n",
    "seqb = 'AGH'\n",
    "\n",
    "class NW():\n",
    "    def __init__(\n",
    "            self, seqa:str, seqb:str, \n",
    "            match, mismatch, gap\n",
    "    ):\n",
    "        self.seqa = seqa\n",
    "        self.seqb = seqb\n",
    "        self.matrix = np.zeros((len(seqa)+1, len(seqb)+1))\n",
    "        self.matrix.fill(np.inf)\n",
    "        self.matrix[:, 0] = -np.arange(len(seqa)+1)\n",
    "        self.matrix[0, :] = -np.arange(len(seqb)+1)\n",
    "        self.match_score = match\n",
    "        self.mismatch_score = mismatch\n",
    "        self.gap_score = gap\n",
    "                \n",
    "    def _scoring(self):\n",
    "        for row_idx, i in enumerate(self.matrix):\n",
    "            for col_idx, j in enumerate(i):\n",
    "                \n",
    "                if j != np.inf:\n",
    "                    pass\n",
    "                else:\n",
    "                    '''\n",
    "                    lt: right top (diagonal)\n",
    "                    lt_: rt + match or mismatch\n",
    "                    rb: right bottom\n",
    "                    lt: left top\n",
    "                    '''\n",
    "                    lt = self.matrix[row_idx-1, col_idx-1]\n",
    "                    lt_ = lt + self.match_score if self.seqa[row_idx-1] == self.seqb[col_idx-1] else lt + self.mismatch_score\n",
    "                    \n",
    "                    lb = self.matrix[row_idx, col_idx-1]\n",
    "                    rt = self.matrix[row_idx-1, col_idx]\n",
    "\n",
    "                    score = np.max([lt_, lb+self.gap_score, rt+self.gap_score])\n",
    "\n",
    "                    self.matrix[row_idx, col_idx] = score\n",
    "\n",
    "        return self.matrix\n",
    "    \n",
    "    def _traceback(self,):\n",
    "        '''\n",
    "        Initialize traceback procedure: \n",
    "        row: the row coordinate of the current value\n",
    "        col: the column coordinate of the current value\n",
    "        '''\n",
    "        row = self.matrix.shape[0] - 1\n",
    "        col = self.matrix.shape[1] - 1\n",
    "        '''\n",
    "        tv: traceback value(score)\n",
    "        '''\n",
    "        traceback_list = []\n",
    "        traceback = self.matrix[row, col]\n",
    "        traceback_list.append(traceback)\n",
    "\n",
    "        while row != 1 or col != 1:\n",
    "            '''\n",
    "            window_state: score as key, coordinates(tuple) as value\n",
    "            lb: left bottom\n",
    "            lt: left top\n",
    "            rt: right top\n",
    "            '''\n",
    "            window_state = {}\n",
    "            lb = self.matrix[row, col-1]\n",
    "            lt = self.matrix[row-1, col-1]\n",
    "            rt = self.matrix[row-1, col]\n",
    "            window_state[lb] = (row, col-1)\n",
    "            window_state[lt] = (row-1, col-1)\n",
    "            window_state[rt] = (row-1, col)\n",
    "\n",
    "            print(window_state)\n",
    "\n",
    "            traceback = max(lb, lt, rt)\n",
    "            traceback_list.append(traceback)\n",
    "            for i in window_state:\n",
    "                if traceback == i:\n",
    "                    row = window_state[i][0]\n",
    "                    col = window_state[i][1]\n",
    "\n",
    "        return traceback_list\n",
    "\n",
    "    \n",
    "    def align(self):\n",
    "        score_matrix = self._scoring()\n",
    "        print(score_matrix)\n",
    "        output = self._traceback()\n",
    "        return output\n",
    "\n",
    "            \n",
    "\n",
    "    \n",
    "nw = NW(seqa, seqb, 1, -1, -1)\n",
    "m = nw.align()\n",
    "print(m)\n",
    "                    "
   ]
  },
  {
   "cell_type": "code",
   "execution_count": 11,
   "id": "4b08e2fb",
   "metadata": {},
   "outputs": [
    {
     "name": "stdout",
     "output_type": "stream",
     "text": [
      "[[ 0. -1. -2. -3. -4. -5.]\n",
      " [-1.  1.  0. -1. -2. -3.]\n",
      " [-2.  0.  2.  1.  0. -1.]\n",
      " [-3. -1.  1.  1.  0. -1.]\n",
      " [-4. -2.  0.  0.  2.  1.]\n",
      " [-5. -3. -1. -1.  1.  3.]]\n",
      "{1.0: (4, 5), 2.0: (4, 4)}\n",
      "{0.0: (3, 4), 1.0: (3, 3)}\n",
      "{1.0: (2, 3), 2.0: (2, 2)}\n",
      "{0.0: (1, 2), 1.0: (1, 1)}\n",
      "[3.0, 2.0, 1.0, 2.0, 1.0]\n"
     ]
    }
   ],
   "source": [
    "seqa1 = 'AEGHK'\n",
    "seqb1 = 'AELHK'\n",
    "nw1 = NW(seqa1, seqb1, 1, -1, -1)\n",
    "m1 = nw1.align()\n",
    "print(m1)"
   ]
  },
  {
   "cell_type": "code",
   "execution_count": null,
   "id": "b641d7b4",
   "metadata": {},
   "outputs": [],
   "source": []
  }
 ],
 "metadata": {
  "kernelspec": {
   "display_name": "ML_and_DL",
   "language": "python",
   "name": "python3"
  },
  "language_info": {
   "codemirror_mode": {
    "name": "ipython",
    "version": 3
   },
   "file_extension": ".py",
   "mimetype": "text/x-python",
   "name": "python",
   "nbconvert_exporter": "python",
   "pygments_lexer": "ipython3",
   "version": "3.12.8"
  }
 },
 "nbformat": 4,
 "nbformat_minor": 5
}

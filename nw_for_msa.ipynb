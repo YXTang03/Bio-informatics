{
 "cells": [
  {
   "cell_type": "code",
   "execution_count": 2,
   "id": "eee175f0",
   "metadata": {},
   "outputs": [],
   "source": [
    "import pandas as pd\n",
    "import torch\n",
    "from torch import nn\n",
    "from tqdm import tqdm\n",
    "import re\n",
    "import numpy as np"
   ]
  },
  {
   "cell_type": "code",
   "execution_count": 3,
   "id": "e1cbbb9f",
   "metadata": {},
   "outputs": [
    {
     "name": "stdout",
     "output_type": "stream",
     "text": [
      "6\n"
     ]
    }
   ],
   "source": [
    "seq_path = r\"E:\\Archive\\PG_at_UCL\\bioinfo\\paralogs of PGH2.txt\"\n",
    "p_list = []\n",
    "with open(seq_path, 'r') as f:\n",
    "    contents = f.readlines()\n",
    "    for content in contents:\n",
    "        if re.match(r'\\w', content):\n",
    "            p_list.append(content)\n",
    "print(len(p_list))"
   ]
  },
  {
   "cell_type": "code",
   "execution_count": 6,
   "id": "6e87894d",
   "metadata": {},
   "outputs": [
    {
     "data": {
      "text/plain": [
       "['MLARALLLCAVLALSHTANPCCSHPCQNRGVCMSVGFDQYKCDCTRTGFYGENCSTPEFLTRIKLFLKPTPNTVHYILTHFKGFWNVVNNIPFLRNAIMSYVLTSRSHLIDSPPTYNADYGYKSWEAFSNLSYYTRALPPVPDDCPTPLGVKGKKQLPDSNEIVEKLLLRRKFIPDPQGSNMMFAFFAQHFTHQFFKTDHKRGPAFTNGLGHGVDLNHIYGETLARQRKLRLFKDGKMKYQIIDGEMYPPTVKDTQAEMIYPPQVPEHLRFAVGQEVFGLVPGLMMYATIWLREHNRVCDVLKQEHPEWGDEQLFQTSRLILIGETIKIVIEDYVQHLSGYHFKLKFDPELLFNKQFQYQNRIAAEFNTLYHWHPLLPDTFQIHDQKYNYQQFIYNNSILLEHGITQFVESFTRQIAGRVAGGRNVPPAVQKVSQASIDQSRQMKYQSFNEYRKRFMLKPYESFEELTGEKEMSAELEALYGDIDAVELYPALLVEKPRPDAIFGETMVEVGAPFSLKGLMGNVICSPAYWKPSTFGGEVGFQIINTASIQSLICNNVKGCPFTSFSVPDPELIKTVTINASSSRSGLDDINPTVLLKERSTEL\\n',\n",
       " 'MSRSLLLWFLLFLLLLPPLPVLLADPGAPTPVNPCCYYPCQHQGICVRFGLDRYQCDCTRTGYSGPNCTIPGLWTWLRNSLRPSPSFTHFLLTHGRWFWEFVNATFIREMLMRLVLTVRSNLIPSPPTYNSAHDYISWESFSNVSYYTRILPSVPKDCPTPMGTKGKKQLPDAQLLARRFLLRRKFIPDPQGTNLMFAFFAQHFTHQFFKTSGKMGPGFTKALGHGVDLGHIYGDNLERQYQLRLFKDGKLKYQVLDGEMYPPSVEEAPVLMHYPRGIPPQSQMAVGQEVFGLLPGLMLYATLWLREHNRVCDLLKAEHPTWGDEQLFQTTRLILIGETIKIVIEEYVQQLSGYFLQLKFDPELLFGVQFQYRNRIAMEFNHLYHWHPLMPDSFKVGSQEYSYEQFLFNTSMLVDYGVEALVDAFSRQIAGRIGGGRNMDHHILHVAVDVIRESREMRLQPFNEYRKRFGMKPYTSFQELVGEKEMAAELEELYGDIDALEFYPGLLLEKCHPNSIFGESMIEIGAPFSLKGLLGNPICSPEYWKPSTFGGEVGFNIVKTATLKKLVCLNTKTCPYVSFRVPDASQDDGPAVERPSTEL\\n',\n",
       " 'MRVLLHLPALLASLILLQAAASTTRAQTTRTSAISDTVSQAKVQVNKAFLDSRTRLKTAMSSETPTSRQLSEYLKHAKGRTRTAIRNGQVWEESLKRLRQKASLTNVTDPSLDLTSLSLEVGCGAPAPVVRCDPCSPYRTITGDCNNRRKPALGAANRALARWLPAEYEDGLSLPFGWTPGKTRNGFPLPLAREVSNKIVGYLNEEGVLDQNRSLLFMQWGQIVDHDLDFAPDTELGSSEYSKAQCDEYCIQGDNCFPIMFPPNDPKAGTQGKCMPFFRAGFVCPTPPYKSLAREQINALTSFLDASFVYSSEPSLASRLRNLSSPLGLMAVNQEVSDHGLPYLPYDSKKPSPCEFINTTARVPCFLAGDSRASEHILLATSHTLFLREHNRLARELKRLNPQWDGEKLYQEARKILGAFVQIITFRDYLPILLGDHMQKWIPPYQGYSESVDPRISNVFTFAFRFGHLEVPSSMFRLDENYQPWGPEPELPLHTLFFNTWRMVKDGGIDPLVRGLLAKKSKLMKQNKMMTGELRNKLFQPTHRIHGFDLAAINTQRCRDHGQPGYNSWRAFCDLSQPQTLEELNTVLKSKMLAKKLLGLYGTPDNIDIWIGAIAEPLVERGRVGPLLACLLGKQFQQIRDGDRFWWENPGVFTNEQKDSLQKMSFSRLVCDNTRITKVPRDPFWANSYPYDFVDCSAIDKLDLSPWASVKN\\n',\n",
       " 'MGVPFFSSLRCMVDLGPCWAGGLTAEMKLLLALAGLLAILATPQPSEGAAPAVLGEVDTSLVLSSMEEAKQLVDKAYKERRESIKQRLRSGSASPMELLSYFKQPVAATRTAVRAADYLHVALDLLERKLRSLWRRPFNVTDVLTPAQLNVLSKSSGCAYQDVGVTCPEQDKYRTITGMCNNRRSPTLGASNRAFVRWLPAEYEDGFSLPYGWTPGVKRNGFPVALARAVSNEIVRFPTDQLTPDQERSLMFMQWGQLLDHDLDFTPEPAARASFVTGVNCETSCVQQPPCFPLKIPPNDPRIKNQADCIPFFRSCPACPGSNITIRNQINALTSFVDASMVYGSEEPLARNLRNMSNQLGLLAVNQRFQDNGRALLPFDNLHDDPCLLTNRSARIPCFLAGDTRSSEMPELTSMHTLLLREHNRLATELKSLNPRWDGERLYQEARKIVGAMVQIITYRDYLPLVLGPTAMRKYLPTYRSYNDSVDPRIANVFTNAFRYGHTLIQPFMFRLDNRYQPMEPNPRVPLSRVFFASWRVVLEGGIDPILRGLMATPAKLNRQNQIAVDEIRERLFEQVMRIGLDLPALNMQRSRDHGLPGYNAWRRFCGLPQPETVGQLGTVLRNLKLARKLMEQYGTPNNIDIWMGGVSEPLKRKGRVGPLLACIIGTQFRKLRDGDRFWWENEGVFSMQQRQALAQISLPRIICDNTGITTVSKNNIFMSNSYPRDFVNCSTLPALNLASWREAS\\n',\n",
       " 'MRALAVLSVTLVMACTEAFFPFISRGKELLWGKPEESRVSSVLEESKRLVDTAMYATMQRNLKKRGILSPAQLLSFSKLPEPTSGVIARAAEIMETSIQAMKRKVNLKTQQSQHPTDALSEDLLSIIANMSGCLPYMLPPKCPNTCLANKYRPITGACNNRDHPRWGASNTALARWLPPVYEDGFSQPRGWNPGFLYNGFPLPPVREVTRHVIQVSNEVVTDDDRYSDLLMAWGQYIDHDIAFTPQSTSKAAFGGGADCQMTCENQNPCFPIQLPEEARPAAGTACLPFYRSSAACGTGDQGALFGNLSTANPRQQMNGLTSFLDASTVYGSSPALERQLRNWTSAEGLLRVHARLRDSGRAYLPFVPPRAPAACAPEPGIPGETRGPCFLAGDGRASEVPSLTALHTLWLREHNRLAAALKALNAHWSADAVYQEARKVVGALHQIITLRDYIPRILGPEAFQQYVGPYEGYDSTANPTVSNVFSTAAFRFGHATIHPLVRRLDASFQEHPDLPGLWLHQAFFSPWTLLRGGGLDPLIRGLLARPAKLQVQDQLMNEELTERLFVLSNSSTLDLASINLQRGRDHGLPGYNEWREFCGLPRLETPADLSTAIASRSVADKILDLYKHPDNIDVWLGGLAENFLPRARTGPLFACLIGKQMKALRDGDWFWWENSHVFTDAQRRELEKHSLSRVICDNTGLTRVPMDAFQVGKFPEDFESCDSITGMNLEAWRETFPQDDKCGFPESVENGDFVHCEESGRRVLVYSCRHGYELQGREQLTCTQEGWDFQPPLCKDVNECADGAHPPCHASARCRNTKGGFQCLCADPYELGDDGRTCVDSGRLPRVTWISMSLAALLIGGFAGLTSTVICRWTRTGTKSTLPISETGGGTPELRCGKHQAVGTSPQRAAAQDSEQESAGMEGRDTHRLPRAL\\n',\n",
       " 'MHLLPALAGVLATLVLAQPCEGTDPASPGAVETSVLRDCIAEAKLLVDAAYNWTQKSIKQRLRSGSASPMDLLSYFKQPVAATRTVVRAADYMHVALGLLEEKLQPQRSGPFNVTDVLTEPQLRLLSQASGCALRDQAERCSDKYRTITGRCNNKRRPLLGASNQALARWLPAEYEDGLSLPFGWTPSRRRNGFLLPLVRAVSNQIVRFPNERLTSDRGRALMFMQWGQFIDHDLDFSPESPARVAFTAGVDCERTCAQLPPCFPIKIPPNDPRIKNQRDCIPFFRSAPSCPQNKNRVRNQINALTSFVDASMVYGSEVSLSLRLRNRTNYLGLLAINQRFQDNGRALLPFDNLHDDPCLLTNRSARIPCFLAGDTRSTETPKLAAMHTLFMREHNRLATELRRLNPRWNGDKLYNEARKIMGAMVQIITYRDFLPLVLGKARARRTLGHYRGYCSNVDPRVANVFTLAFRFGHTMLQPFMFRLDSQYRASAPNSHVPLSSAFFASWRIVYEGGIDPILRGLMATPAKLNRQDAMLVDELRDRLFRQVRRIGLDLAALNMQRSRDHGLPGYNAWRRFCGLSQPRNLAQLSRVLKNQDLARKFLNLYGTPDNIDIWIGAIAEPLLPGARVGPLLACLFENQFRRARDGDRFWWQKRGVFTKRQRKALSRISLSRIICDNTGITTVSRDIFRANIYPRGFVNCSRIPRLNLSAWRGT']"
      ]
     },
     "execution_count": 6,
     "metadata": {},
     "output_type": "execute_result"
    }
   ],
   "source": [
    "p_list"
   ]
  },
  {
   "cell_type": "code",
   "execution_count": 8,
   "id": "37787233",
   "metadata": {},
   "outputs": [],
   "source": [
    "\n",
    "class NW():\n",
    "    def __init__(\n",
    "            self, seqa:str, seqb:str, \n",
    "            match, mismatch, gap\n",
    "    ):\n",
    "        self.seqa = seqa\n",
    "        self.seqb = seqb\n",
    "        self.match_score = match\n",
    "        self.mismatch_score = mismatch\n",
    "        self.gap_score = gap\n",
    "        self.matrix = np.zeros((len(seqa)+1, len(seqb)+1))\n",
    "        self.matrix.fill(np.inf)\n",
    "        self.matrix[:, 0] = [self.gap_score * i for i in range(self.matrix.shape[0])]\n",
    "        self.matrix[0, :] = [self.gap_score * j for j in range(self.matrix.shape[1])]\n",
    "\n",
    "                \n",
    "    def _scoring(self):\n",
    "        for row_idx, i in enumerate(self.matrix):\n",
    "            for col_idx, j in enumerate(i):\n",
    "                \n",
    "                if j != np.inf:\n",
    "                    pass\n",
    "                else:\n",
    "                    '''\n",
    "                    lt: right top (diagonal)\n",
    "                    lt_: rt + match or mismatch\n",
    "                    rb: right bottom\n",
    "                    lt: left top\n",
    "                    '''\n",
    "                    lt = self.matrix[row_idx-1, col_idx-1]\n",
    "                    lt_ = lt + self.match_score if self.seqa[row_idx-1] == self.seqb[col_idx-1] else lt + self.mismatch_score\n",
    "                    \n",
    "                    lb = self.matrix[row_idx, col_idx-1]\n",
    "                    rt = self.matrix[row_idx-1, col_idx]\n",
    "\n",
    "                    score = np.max([lt_, lb+self.gap_score, rt+self.gap_score])\n",
    "\n",
    "                    self.matrix[row_idx, col_idx] = score\n",
    "\n",
    "        return self.matrix\n",
    "    \n",
    "    def _traceback(self,):\n",
    "        seqa_output, seqb_output = [], []\n",
    "        row = self.matrix.shape[0] - 1\n",
    "        col = self.matrix.shape[1] - 1\n",
    "\n",
    "        while row > 0 or col > 0:\n",
    "\n",
    "            # How N&W gets rid of local optimum\n",
    "\n",
    "            #print(f'row: {row}, col: {col}')\n",
    "            current_score = self.matrix[row, col]\n",
    "\n",
    "            if row > 0 and col >0:\n",
    "                #match_val = self.match_score if self.seqa[row-1] == self.seqb[col-1] else self.mismatch_score\n",
    "                match_val = self.match_score if self.seqa[row-1] == self.seqb[col-1] else self.mismatch_score\n",
    "                #print(match_val)\n",
    "                if current_score == self.matrix[row-1, col - 1] + match_val:\n",
    "                    seqa_output.append(self.seqa[row-1])\n",
    "                    seqb_output.append(self.seqb[col-1])\n",
    "                    \n",
    "                    row -= 1\n",
    "                    col -= 1\n",
    "                    continue\n",
    "                \n",
    "            if col>0 and current_score == self.matrix[row, col - 1] + self.gap_score:\n",
    "                seqa_output.append('-')\n",
    "                seqb_output.append(self.seqb[col-1])\n",
    "                col -= 1\n",
    "                continue\n",
    "\n",
    "            if row > 0 and current_score == self.matrix[row - 1, col] + self.gap_score:\n",
    "                \n",
    "                seqa_output.append(self.seqa[row-1])\n",
    "                seqb_output.append('-')\n",
    "                row -= 1\n",
    "                \n",
    "                continue\n",
    "\n",
    "                \n",
    "        seqa_output.reverse(), seqb_output.reverse()\n",
    "        return seqa_output, seqb_output\n",
    "    \n",
    "    def align(self):\n",
    "        score_matrix = self._scoring()\n",
    "        #print(score_matrix)\n",
    "        seqa_output, seqb_output = self._traceback()\n",
    "        return seqa_output, seqb_output"
   ]
  },
  {
   "cell_type": "code",
   "execution_count": 13,
   "id": "8f96ded4",
   "metadata": {},
   "outputs": [
    {
     "name": "stdout",
     "output_type": "stream",
     "text": [
      "605\n",
      "3\n",
      "-10\n",
      "-2\n",
      "-1\n",
      "-22\n",
      "3\n",
      "600\n",
      "-11\n",
      "-2\n",
      "-9\n",
      "-6\n",
      "-10\n",
      "-11\n",
      "713\n",
      "-5\n",
      "-2\n",
      "-6\n",
      "-2\n",
      "-2\n",
      "-5\n",
      "746\n",
      "-1\n",
      "-4\n",
      "-1\n",
      "-9\n",
      "-2\n",
      "-1\n",
      "934\n",
      "-2\n",
      "-22\n",
      "-6\n",
      "-6\n",
      "-4\n",
      "-2\n",
      "715\n"
     ]
    }
   ],
   "source": [
    "def msa_matrix(p_list):\n",
    "    matrix = np.zeros((len(p_list), len(p_list)))\n",
    "    for i, seqa, in enumerate(p_list):\n",
    "        for j, seqb in enumerate(p_list):\n",
    "            score = 0\n",
    "            nw = NW(seqa, seqb, match=1, mismatch=-1, gap=-2)\n",
    "            seqa_, seqb_ = nw.align()\n",
    "\n",
    "            for k in range(len(seqa_)):\n",
    "                if seqa_[k] == seqb_[k]:\n",
    "                    score += nw.match_score\n",
    "                elif seqa_[k] != seqb_[k] and seqa_[k] != '-' and seqb_[k] != '-':\n",
    "                    score += nw.mismatch_score\n",
    "                else:\n",
    "                    score =+ nw.gap_score\n",
    "\n",
    "            print(score)\n",
    "            matrix[i][j] = score\n",
    "    return matrix\n",
    "m = msa_matrix(p_list)"
   ]
  },
  {
   "cell_type": "code",
   "execution_count": null,
   "id": "0fa1ef83",
   "metadata": {},
   "outputs": [],
   "source": [
    "np.fill_diagonal(m, 0)"
   ]
  },
  {
   "cell_type": "code",
   "execution_count": 17,
   "id": "458e1e9d",
   "metadata": {},
   "outputs": [
    {
     "data": {
      "text/plain": [
       "array([[  0.,   3., -10.,  -2.,  -1., -22.],\n",
       "       [  3.,   0., -11.,  -2.,  -9.,  -6.],\n",
       "       [-10., -11.,   0.,  -5.,  -2.,  -6.],\n",
       "       [ -2.,  -2.,  -5.,   0.,  -1.,  -4.],\n",
       "       [ -1.,  -9.,  -2.,  -1.,   0.,  -2.],\n",
       "       [-22.,  -6.,  -6.,  -4.,  -2.,   0.]])"
      ]
     },
     "execution_count": 17,
     "metadata": {},
     "output_type": "execute_result"
    }
   ],
   "source": [
    "m"
   ]
  },
  {
   "cell_type": "code",
   "execution_count": 19,
   "id": "3762b5d8",
   "metadata": {},
   "outputs": [
    {
     "data": {
      "image/png": "[encoded data removed]",
      "text/plain": [
       "<Figure size 500x300 with 1 Axes>"
      ]
     },
     "metadata": {},
     "output_type": "display_data"
    }
   ],
   "source": [
    "from scipy.spatial.distance import pdist, squareform\n",
    "import matplotlib.pyplot as plt\n",
    "from scipy.cluster.hierarchy import linkage, dendrogram, fcluster\n",
    "z = linkage(m, 'ward')\n",
    "f = fcluster(z,2,'distance')\n",
    "plt.figure(figsize=(5, 3))\n",
    "dn = dendrogram(z)\n",
    "plt.show()"
   ]
  },
  {
   "cell_type": "code",
   "execution_count": null,
   "id": "f6c51e45",
   "metadata": {},
   "outputs": [],
   "source": []
  }
 ],
 "metadata": {
  "kernelspec": {
   "display_name": "hf",
   "language": "python",
   "name": "python3"
  },
  "language_info": {
   "codemirror_mode": {
    "name": "ipython",
    "version": 3
   },
   "file_extension": ".py",
   "mimetype": "text/x-python",
   "name": "python",
   "nbconvert_exporter": "python",
   "pygments_lexer": "ipython3",
   "version": "3.11.0"
  }
 },
 "nbformat": 4,
 "nbformat_minor": 5
}

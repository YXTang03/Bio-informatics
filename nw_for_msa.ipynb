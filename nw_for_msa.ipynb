{
 "cells": [
  {
   "cell_type": "code",
   "execution_count": 1,
   "id": "eee175f0",
   "metadata": {},
   "outputs": [],
   "source": [
    "import pandas as pd\n",
    "import torch\n",
    "from torch import nn\n",
    "from tqdm import tqdm\n",
    "import re\n",
    "import numpy as np"
   ]
  },
  {
   "cell_type": "code",
   "execution_count": 2,
   "id": "e1cbbb9f",
   "metadata": {},
   "outputs": [
    {
     "name": "stdout",
     "output_type": "stream",
     "text": [
      "6\n"
     ]
    }
   ],
   "source": [
    "seq_path = r\"E:\\Archive\\PG_at_UCL\\bioinfo\\paralogs of PGH2.txt\"\n",
    "p_list = []\n",
    "with open(seq_path, 'r') as f:\n",
    "    contents = f.readlines()\n",
    "    for content in contents:\n",
    "        if re.match(r'\\w', content):\n",
    "            p_list.append(content)\n",
    "print(len(p_list))"
   ]
  },
  {
   "cell_type": "code",
   "execution_count": 3,
   "id": "6e87894d",
   "metadata": {},
   "outputs": [
    {
     "data": {
      "text/plain": [
       "['MLARALLLCAVLALSHTANPCCSHPCQNRGVCMSVGFDQYKCDCTRTGFYGENCSTPEFLTRIKLFLKPTPNTVHYILTHFKGFWNVVNNIPFLRNAIMSYVLTSRSHLIDSPPTYNADYGYKSWEAFSNLSYYTRALPPVPDDCPTPLGVKGKKQLPDSNEIVEKLLLRRKFIPDPQGSNMMFAFFAQHFTHQFFKTDHKRGPAFTNGLGHGVDLNHIYGETLARQRKLRLFKDGKMKYQIIDGEMYPPTVKDTQAEMIYPPQVPEHLRFAVGQEVFGLVPGLMMYATIWLREHNRVCDVLKQEHPEWGDEQLFQTSRLILIGETIKIVIEDYVQHLSGYHFKLKFDPELLFNKQFQYQNRIAAEFNTLYHWHPLLPDTFQIHDQKYNYQQFIYNNSILLEHGITQFVESFTRQIAGRVAGGRNVPPAVQKVSQASIDQSRQMKYQSFNEYRKRFMLKPYESFEELTGEKEMSAELEALYGDIDAVELYPALLVEKPRPDAIFGETMVEVGAPFSLKGLMGNVICSPAYWKPSTFGGEVGFQIINTASIQSLICNNVKGCPFTSFSVPDPELIKTVTINASSSRSGLDDINPTVLLKERSTEL\\n',\n",
       " 'MSRSLLLWFLLFLLLLPPLPVLLADPGAPTPVNPCCYYPCQHQGICVRFGLDRYQCDCTRTGYSGPNCTIPGLWTWLRNSLRPSPSFTHFLLTHGRWFWEFVNATFIREMLMRLVLTVRSNLIPSPPTYNSAHDYISWESFSNVSYYTRILPSVPKDCPTPMGTKGKKQLPDAQLLARRFLLRRKFIPDPQGTNLMFAFFAQHFTHQFFKTSGKMGPGFTKALGHGVDLGHIYGDNLERQYQLRLFKDGKLKYQVLDGEMYPPSVEEAPVLMHYPRGIPPQSQMAVGQEVFGLLPGLMLYATLWLREHNRVCDLLKAEHPTWGDEQLFQTTRLILIGETIKIVIEEYVQQLSGYFLQLKFDPELLFGVQFQYRNRIAMEFNHLYHWHPLMPDSFKVGSQEYSYEQFLFNTSMLVDYGVEALVDAFSRQIAGRIGGGRNMDHHILHVAVDVIRESREMRLQPFNEYRKRFGMKPYTSFQELVGEKEMAAELEELYGDIDALEFYPGLLLEKCHPNSIFGESMIEIGAPFSLKGLLGNPICSPEYWKPSTFGGEVGFNIVKTATLKKLVCLNTKTCPYVSFRVPDASQDDGPAVERPSTEL\\n',\n",
       " 'MRVLLHLPALLASLILLQAAASTTRAQTTRTSAISDTVSQAKVQVNKAFLDSRTRLKTAMSSETPTSRQLSEYLKHAKGRTRTAIRNGQVWEESLKRLRQKASLTNVTDPSLDLTSLSLEVGCGAPAPVVRCDPCSPYRTITGDCNNRRKPALGAANRALARWLPAEYEDGLSLPFGWTPGKTRNGFPLPLAREVSNKIVGYLNEEGVLDQNRSLLFMQWGQIVDHDLDFAPDTELGSSEYSKAQCDEYCIQGDNCFPIMFPPNDPKAGTQGKCMPFFRAGFVCPTPPYKSLAREQINALTSFLDASFVYSSEPSLASRLRNLSSPLGLMAVNQEVSDHGLPYLPYDSKKPSPCEFINTTARVPCFLAGDSRASEHILLATSHTLFLREHNRLARELKRLNPQWDGEKLYQEARKILGAFVQIITFRDYLPILLGDHMQKWIPPYQGYSESVDPRISNVFTFAFRFGHLEVPSSMFRLDENYQPWGPEPELPLHTLFFNTWRMVKDGGIDPLVRGLLAKKSKLMKQNKMMTGELRNKLFQPTHRIHGFDLAAINTQRCRDHGQPGYNSWRAFCDLSQPQTLEELNTVLKSKMLAKKLLGLYGTPDNIDIWIGAIAEPLVERGRVGPLLACLLGKQFQQIRDGDRFWWENPGVFTNEQKDSLQKMSFSRLVCDNTRITKVPRDPFWANSYPYDFVDCSAIDKLDLSPWASVKN\\n',\n",
       " 'MGVPFFSSLRCMVDLGPCWAGGLTAEMKLLLALAGLLAILATPQPSEGAAPAVLGEVDTSLVLSSMEEAKQLVDKAYKERRESIKQRLRSGSASPMELLSYFKQPVAATRTAVRAADYLHVALDLLERKLRSLWRRPFNVTDVLTPAQLNVLSKSSGCAYQDVGVTCPEQDKYRTITGMCNNRRSPTLGASNRAFVRWLPAEYEDGFSLPYGWTPGVKRNGFPVALARAVSNEIVRFPTDQLTPDQERSLMFMQWGQLLDHDLDFTPEPAARASFVTGVNCETSCVQQPPCFPLKIPPNDPRIKNQADCIPFFRSCPACPGSNITIRNQINALTSFVDASMVYGSEEPLARNLRNMSNQLGLLAVNQRFQDNGRALLPFDNLHDDPCLLTNRSARIPCFLAGDTRSSEMPELTSMHTLLLREHNRLATELKSLNPRWDGERLYQEARKIVGAMVQIITYRDYLPLVLGPTAMRKYLPTYRSYNDSVDPRIANVFTNAFRYGHTLIQPFMFRLDNRYQPMEPNPRVPLSRVFFASWRVVLEGGIDPILRGLMATPAKLNRQNQIAVDEIRERLFEQVMRIGLDLPALNMQRSRDHGLPGYNAWRRFCGLPQPETVGQLGTVLRNLKLARKLMEQYGTPNNIDIWMGGVSEPLKRKGRVGPLLACIIGTQFRKLRDGDRFWWENEGVFSMQQRQALAQISLPRIICDNTGITTVSKNNIFMSNSYPRDFVNCSTLPALNLASWREAS\\n',\n",
       " 'MRALAVLSVTLVMACTEAFFPFISRGKELLWGKPEESRVSSVLEESKRLVDTAMYATMQRNLKKRGILSPAQLLSFSKLPEPTSGVIARAAEIMETSIQAMKRKVNLKTQQSQHPTDALSEDLLSIIANMSGCLPYMLPPKCPNTCLANKYRPITGACNNRDHPRWGASNTALARWLPPVYEDGFSQPRGWNPGFLYNGFPLPPVREVTRHVIQVSNEVVTDDDRYSDLLMAWGQYIDHDIAFTPQSTSKAAFGGGADCQMTCENQNPCFPIQLPEEARPAAGTACLPFYRSSAACGTGDQGALFGNLSTANPRQQMNGLTSFLDASTVYGSSPALERQLRNWTSAEGLLRVHARLRDSGRAYLPFVPPRAPAACAPEPGIPGETRGPCFLAGDGRASEVPSLTALHTLWLREHNRLAAALKALNAHWSADAVYQEARKVVGALHQIITLRDYIPRILGPEAFQQYVGPYEGYDSTANPTVSNVFSTAAFRFGHATIHPLVRRLDASFQEHPDLPGLWLHQAFFSPWTLLRGGGLDPLIRGLLARPAKLQVQDQLMNEELTERLFVLSNSSTLDLASINLQRGRDHGLPGYNEWREFCGLPRLETPADLSTAIASRSVADKILDLYKHPDNIDVWLGGLAENFLPRARTGPLFACLIGKQMKALRDGDWFWWENSHVFTDAQRRELEKHSLSRVICDNTGLTRVPMDAFQVGKFPEDFESCDSITGMNLEAWRETFPQDDKCGFPESVENGDFVHCEESGRRVLVYSCRHGYELQGREQLTCTQEGWDFQPPLCKDVNECADGAHPPCHASARCRNTKGGFQCLCADPYELGDDGRTCVDSGRLPRVTWISMSLAALLIGGFAGLTSTVICRWTRTGTKSTLPISETGGGTPELRCGKHQAVGTSPQRAAAQDSEQESAGMEGRDTHRLPRAL\\n',\n",
       " 'MHLLPALAGVLATLVLAQPCEGTDPASPGAVETSVLRDCIAEAKLLVDAAYNWTQKSIKQRLRSGSASPMDLLSYFKQPVAATRTVVRAADYMHVALGLLEEKLQPQRSGPFNVTDVLTEPQLRLLSQASGCALRDQAERCSDKYRTITGRCNNKRRPLLGASNQALARWLPAEYEDGLSLPFGWTPSRRRNGFLLPLVRAVSNQIVRFPNERLTSDRGRALMFMQWGQFIDHDLDFSPESPARVAFTAGVDCERTCAQLPPCFPIKIPPNDPRIKNQRDCIPFFRSAPSCPQNKNRVRNQINALTSFVDASMVYGSEVSLSLRLRNRTNYLGLLAINQRFQDNGRALLPFDNLHDDPCLLTNRSARIPCFLAGDTRSTETPKLAAMHTLFMREHNRLATELRRLNPRWNGDKLYNEARKIMGAMVQIITYRDFLPLVLGKARARRTLGHYRGYCSNVDPRVANVFTLAFRFGHTMLQPFMFRLDSQYRASAPNSHVPLSSAFFASWRIVYEGGIDPILRGLMATPAKLNRQDAMLVDELRDRLFRQVRRIGLDLAALNMQRSRDHGLPGYNAWRRFCGLSQPRNLAQLSRVLKNQDLARKFLNLYGTPDNIDIWIGAIAEPLLPGARVGPLLACLFENQFRRARDGDRFWWQKRGVFTKRQRKALSRISLSRIICDNTGITTVSRDIFRANIYPRGFVNCSRIPRLNLSAWRGT']"
      ]
     },
     "execution_count": 3,
     "metadata": {},
     "output_type": "execute_result"
    }
   ],
   "source": [
    "p_list"
   ]
  },
  {
   "cell_type": "code",
   "execution_count": 4,
   "id": "37787233",
   "metadata": {},
   "outputs": [],
   "source": [
    "class NW():\n",
    "    def __init__(\n",
    "            self, seqa:str, seqb:str, \n",
    "            match, mismatch, gap\n",
    "    ):\n",
    "        self.seqa = seqa\n",
    "        self.seqb = seqb\n",
    "        self.match_score = match\n",
    "        self.mismatch_score = mismatch\n",
    "        self.gap_score = gap\n",
    "        self.matrix = np.zeros((len(seqa)+1, len(seqb)+1))\n",
    "        self.matrix.fill(np.inf)\n",
    "        self.matrix[:, 0] = [self.gap_score * i for i in range(self.matrix.shape[0])]\n",
    "        self.matrix[0, :] = [self.gap_score * j for j in range(self.matrix.shape[1])]\n",
    "\n",
    "                \n",
    "    def _scoring(self):\n",
    "        for row_idx, i in enumerate(self.matrix):\n",
    "            for col_idx, j in enumerate(i):\n",
    "                \n",
    "                if j != np.inf:\n",
    "                    pass\n",
    "                else:\n",
    "                    '''\n",
    "                    lt: right top (diagonal)\n",
    "                    lt_: rt + match or mismatch\n",
    "                    rb: right bottom\n",
    "                    lt: left top\n",
    "                    '''\n",
    "                    lt = self.matrix[row_idx-1, col_idx-1]\n",
    "                    lt_ = lt + self.match_score if self.seqa[row_idx-1] == self.seqb[col_idx-1] else lt + self.mismatch_score\n",
    "                    \n",
    "                    lb = self.matrix[row_idx, col_idx-1]\n",
    "                    rt = self.matrix[row_idx-1, col_idx]\n",
    "\n",
    "                    score = np.max([lt_, lb+self.gap_score, rt+self.gap_score])\n",
    "\n",
    "                    self.matrix[row_idx, col_idx] = score\n",
    "\n",
    "        return self.matrix\n",
    "    \n",
    "    def _traceback(self,):\n",
    "        seqa_output, seqb_output = [], []\n",
    "        row = self.matrix.shape[0] - 1\n",
    "        col = self.matrix.shape[1] - 1\n",
    "\n",
    "        while row > 0 or col > 0:\n",
    "\n",
    "            # How N&W gets rid of local optimum\n",
    "\n",
    "            #print(f'row: {row}, col: {col}')\n",
    "            current_score = self.matrix[row, col]\n",
    "\n",
    "            if row > 0 and col >0:\n",
    "                #match_val = self.match_score if self.seqa[row-1] == self.seqb[col-1] else self.mismatch_score\n",
    "                match_val = self.match_score if self.seqa[row-1] == self.seqb[col-1] else self.mismatch_score\n",
    "                #print(match_val)\n",
    "                if current_score == self.matrix[row-1, col - 1] + match_val:\n",
    "                    seqa_output.append(self.seqa[row-1])\n",
    "                    seqb_output.append(self.seqb[col-1])\n",
    "                    \n",
    "                    row -= 1\n",
    "                    col -= 1\n",
    "                    continue\n",
    "                \n",
    "            if col>0 and current_score == self.matrix[row, col - 1] + self.gap_score:\n",
    "                seqa_output.append('-')\n",
    "                seqb_output.append(self.seqb[col-1])\n",
    "                col -= 1\n",
    "                continue\n",
    "\n",
    "            if row > 0 and current_score == self.matrix[row - 1, col] + self.gap_score:\n",
    "                \n",
    "                seqa_output.append(self.seqa[row-1])\n",
    "                seqb_output.append('-')\n",
    "                row -= 1\n",
    "                \n",
    "                continue\n",
    "\n",
    "                \n",
    "        seqa_output.reverse(), seqb_output.reverse()\n",
    "        return seqa_output, seqb_output\n",
    "    \n",
    "    def align(self):\n",
    "        score_matrix = self._scoring()\n",
    "        #print(score_matrix)\n",
    "        seqa_output, seqb_output = self._traceback()\n",
    "        return seqa_output, seqb_output"
   ]
  },
  {
   "cell_type": "code",
   "execution_count": null,
   "id": "8f96ded4",
   "metadata": {},
   "outputs": [
    {
     "name": "stdout",
     "output_type": "stream",
     "text": [
      "3\n",
      "-10\n",
      "-2\n",
      "-1\n",
      "-22\n",
      "-11\n",
      "-2\n",
      "-9\n",
      "-6\n",
      "-5\n",
      "-2\n",
      "-6\n",
      "-1\n",
      "-4\n",
      "-2\n"
     ]
    }
   ],
   "source": [
    "def msa_matrix(\n",
    "        p_list:list, \n",
    "        match_score:int|float, mismatch_score:int|float, gap_score:int|float\n",
    "):\n",
    "    matrix = np.zeros((len(p_list), len(p_list)))\n",
    "    for i, seqa, in enumerate(p_list[:-1]):\n",
    "        for j, seqb in enumerate(p_list[i+1:]):\n",
    "            score = 0\n",
    "            nw = NW(seqa, seqb, match=match_score, mismatch=mismatch_score, gap=gap_score)\n",
    "            seqa_, seqb_ = nw.align()\n",
    "\n",
    "            for k in range(len(seqa_)):\n",
    "                if seqa_[k] == seqb_[k]:\n",
    "                    score += nw.match_score\n",
    "                elif seqa_[k] != seqb_[k] and seqa_[k] != '-' and seqb_[k] != '-':\n",
    "                    score += nw.mismatch_score\n",
    "                else:\n",
    "                    score =+ nw.gap_score\n",
    "\n",
    "            #print({f'i:{i}, j:{i+j+1}'})\n",
    "            print(score)\n",
    "            matrix[i][i+j+1] = score\n",
    "    return matrix + matrix.T\n",
    "m = msa_matrix(p_list, match_score=1, mismatch_score=-1, gap_score=-2)"
   ]
  },
  {
   "cell_type": "code",
   "execution_count": 10,
   "id": "16baa11a",
   "metadata": {},
   "outputs": [
    {
     "name": "stdout",
     "output_type": "stream",
     "text": [
      "score: 379; length: 600\n",
      "score: 174; length: 605\n",
      "score: 177; length: 605\n",
      "score: 224; length: 605\n",
      "score: 157; length: 605\n",
      "score: 174; length: 600\n",
      "score: 181; length: 600\n",
      "score: 217; length: 600\n",
      "score: 162; length: 600\n",
      "score: 387; length: 713\n",
      "score: 334; length: 713\n",
      "score: 372; length: 713\n",
      "score: 348; length: 746\n",
      "score: 505; length: 715\n",
      "score: 339; length: 715\n",
      "[[1.         0.63166667 0.28760331 0.29256198 0.37024793 0.25950413]\n",
      " [0.63166667 1.         0.29       0.30166667 0.36166667 0.27      ]\n",
      " [0.28760331 0.29       1.         0.542777   0.4684432  0.52173913]\n",
      " [0.29256198 0.30166667 0.542777   1.         0.46648794 0.70629371]\n",
      " [0.37024793 0.36166667 0.4684432  0.46648794 1.         0.47412587]\n",
      " [0.25950413 0.27       0.52173913 0.70629371 0.47412587 1.        ]]\n"
     ]
    }
   ],
   "source": [
    "def identity_matrix(\n",
    "        p_list:list, \n",
    "        match_score:int|float, mismatch_score:int|float, gap_score:int|float\n",
    "):\n",
    "    matrix = np.zeros((len(p_list), len(p_list)))\n",
    "    for i, seqa, in enumerate(p_list[:-1]):\n",
    "        for j, seqb in enumerate(p_list[i+1:]):\n",
    "            score = 0\n",
    "            nw = NW(seqa, seqb, match=match_score, mismatch=mismatch_score, gap=gap_score)\n",
    "            seqa_, seqb_ = nw.align()\n",
    "\n",
    "            for k in range(len(seqa_)):\n",
    "                if seqa_[k] == seqb_[k]:\n",
    "                    score += 1\n",
    "                else:\n",
    "                    score += 0\n",
    "            print(f'score: {score}; length: {min(len(seqa), len(seqb))}')\n",
    "            matrix[i][i+j+1] = score/min(len(seqa), len(seqb))\n",
    "\n",
    "    matrix_ = matrix + matrix.T\n",
    "    np.fill_diagonal(matrix_, 1)\n",
    "    return matrix_\n",
    "\n",
    "im = identity_matrix(p_list, match_score=1, mismatch_score=-1, gap_score=-2)\n",
    "print(im)"
   ]
  },
  {
   "cell_type": "code",
   "execution_count": 22,
   "id": "0fa1ef83",
   "metadata": {},
   "outputs": [
    {
     "data": {
      "image/png": "[encoded data removed]",
      "text/plain": [
       "<Figure size 640x480 with 2 Axes>"
      ]
     },
     "metadata": {},
     "output_type": "display_data"
    }
   ],
   "source": [
    "import matplotlib.pyplot as plt\n",
    "\n",
    "fig, ax = plt.subplots()\n",
    "image = ax.imshow(im, cmap='plasma')\n",
    "\n",
    "labels=['PGH2', 'PGH1', 'LPO', 'MPO', 'TPO', 'EPX']\n",
    "\n",
    "for i in range(im.shape[0]):\n",
    "    for j in range(im.shape[1]):\n",
    "        if im[i,j]==1:\n",
    "            continue\n",
    "        if im[i,j] > 0.6:\n",
    "            text = ax.text(\n",
    "                j, i, f'{im[i,j]:.2f}', \n",
    "                ha = 'center', va = 'center', color = 'black'\n",
    "            )\n",
    "\n",
    "        else:\n",
    "            text = ax.text(\n",
    "                j, i, f'{im[i,j]:.2f}', \n",
    "                ha = 'center', va = 'center', color = 'white'\n",
    "            )            \n",
    "\n",
    "ax.set_xticks(np.arange(len(labels)))\n",
    "ax.set_yticks(np.arange(len(labels)))\n",
    "ax.set_xticklabels(labels)\n",
    "ax.set_yticklabels(labels)\n",
    "\n",
    "plt.colorbar(image)\n",
    "plt.tight_layout()\n",
    "plt.savefig('identity_score_matrix.png', dpi = 600)"
   ]
  },
  {
   "cell_type": "code",
   "execution_count": 17,
   "id": "458e1e9d",
   "metadata": {},
   "outputs": [
    {
     "data": {
      "text/plain": [
       "array([[  0.,   3., -10.,  -2.,  -1., -22.],\n",
       "       [  3.,   0., -11.,  -2.,  -9.,  -6.],\n",
       "       [-10., -11.,   0.,  -5.,  -2.,  -6.],\n",
       "       [ -2.,  -2.,  -5.,   0.,  -1.,  -4.],\n",
       "       [ -1.,  -9.,  -2.,  -1.,   0.,  -2.],\n",
       "       [-22.,  -6.,  -6.,  -4.,  -2.,   0.]])"
      ]
     },
     "execution_count": 17,
     "metadata": {},
     "output_type": "execute_result"
    }
   ],
   "source": [
    "m"
   ]
  },
  {
   "cell_type": "code",
   "execution_count": null,
   "id": "3762b5d8",
   "metadata": {},
   "outputs": [
    {
     "data": {
      "image/png": "[encoded data removed]",
      "text/plain": [
       "<Figure size 640x480 with 1 Axes>"
      ]
     },
     "metadata": {},
     "output_type": "display_data"
    }
   ],
   "source": [
    "from scipy.spatial.distance import pdist, squareform\n",
    "import matplotlib.pyplot as plt\n",
    "from scipy.cluster.hierarchy import linkage, dendrogram, fcluster\n",
    "z = linkage(m, 'ward')\n",
    "f = fcluster(z,2,'distance')\n",
    "ax, fig = plt.subplots()\n",
    "\n",
    "fig = dendrogram(z, labels=['PGH2', 'PGH1', 'LPO', 'MPO', 'TPO', 'EPX'])\n",
    "plt.xlabel('Gene Name')\n",
    "plt.savefig('nw_for_msa.png', dpi = 600)"
   ]
  },
  {
   "cell_type": "code",
   "execution_count": null,
   "id": "1c81ea3e",
   "metadata": {},
   "outputs": [],
   "source": []
  }
 ],
 "metadata": {
  "kernelspec": {
   "display_name": "hf",
   "language": "python",
   "name": "python3"
  },
  "language_info": {
   "codemirror_mode": {
    "name": "ipython",
    "version": 3
   },
   "file_extension": ".py",
   "mimetype": "text/x-python",
   "name": "python",
   "nbconvert_exporter": "python",
   "pygments_lexer": "ipython3",
   "version": "3.11.0"
  }
 },
 "nbformat": 4,
 "nbformat_minor": 5
}

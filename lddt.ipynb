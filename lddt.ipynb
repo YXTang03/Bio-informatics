{
 "cells": [
  {
   "cell_type": "code",
   "execution_count": 49,
   "id": "cae29566",
   "metadata": {},
   "outputs": [],
   "source": [
    "from pymol import cmd\n",
    "import pandas as pd\n",
    "import torch\n",
    "import re\n",
    "device = torch.device('cuda' if torch.cuda.is_available() else 'cpu')"
   ]
  },
  {
   "cell_type": "code",
   "execution_count": null,
   "id": "568ba86b",
   "metadata": {},
   "outputs": [
    {
     "name": "stdout",
     "output_type": "stream",
     "text": [
      "Load models from local files.\n"
     ]
    }
   ],
   "source": [
    "try:\n",
    "    cmd.load('cox1.pdb')\n",
    "    cmd.load('cox2.pdb')\n",
    "    print('Load models from local files.')\n",
    "except:\n",
    "    cmd.fetch('6y3c')\n",
    "    cmd.fetch('5ikr')\n",
    "    cmd.set_name('5ikr', 'cox2')\n",
    "    cmd.set_name('6y3c', 'cox1')\n",
    "    print(f'Chain labels on Cox2{cmd.get_chains('cox2')}')\n",
    "    cmd.remove('organic')\n",
    "    cmd.remove('inorganic')\n",
    "    cmd.remove('solvent')\n",
    "    cmd.remove('cox2 and chain B')\n",
    "    cmd.remove('hydrogens')\n",
    "    print(f'Chain labels on Cox2 (monomer){cmd.get_chains('cox2')}')\n",
    "    print(f'Chain labels on Cox1{cmd.get_chains('cox1')}')\n",
    "    cmd.save('cox1.pdb', 'cox1')\n",
    "    cmd.save('cox2.pdb', 'cox2')\n",
    "finally:\n",
    "    c1 = cmd.get_model('cox1')\n",
    "    c2 = cmd.get_model('cox2')"
   ]
  },
  {
   "cell_type": "code",
   "execution_count": 6,
   "id": "b18ed0da",
   "metadata": {},
   "outputs": [
    {
     "data": {
      "application/vnd.microsoft.datawrangler.viewer.v0+json": {
       "columns": [
        {
         "name": "index",
         "rawType": "int64",
         "type": "integer"
        },
        {
         "name": "n",
         "rawType": "object",
         "type": "string"
        },
        {
         "name": "c",
         "rawType": "object",
         "type": "unknown"
        }
       ],
       "ref": "f23fb6eb-23be-4f55-81ee-2d8bbe78f395",
       "rows": [
        [
         "0",
         "N",
         "[1.9709999561309814, -83.97200012207031, 1.7369999885559082]"
        ],
        [
         "1",
         "CA",
         "[1.625, -83.79100036621094, 3.134000062942505]"
        ],
        [
         "2",
         "C",
         "[1.8530000448226929, -82.3740005493164, 3.621999979019165]"
        ],
        [
         "3",
         "O",
         "[2.9739999771118164, -81.86699676513672, 3.578000068664551]"
        ],
        [
         "4",
         "N",
         "[0.7879999876022339, -81.73600006103516, 4.0970001220703125]"
        ],
        [
         "5",
         "CA",
         "[0.8399999737739563, -80.34600067138672, 4.52400016784668]"
        ],
        [
         "6",
         "C",
         "[-0.35100001096725464, -80.0790023803711, 5.434000015258789]"
        ],
        [
         "7",
         "O",
         "[-1.312000036239624, -80.85700225830078, 5.446000099182129]"
        ],
        [
         "8",
         "CB",
         "[0.828000009059906, -79.39399719238281, 3.315999984741211]"
        ],
        [
         "9",
         "N",
         "[-0.31700000166893005, -78.98999786376953, 6.2129998207092285]"
        ],
        [
         "10",
         "CA",
         "[-1.4550000429153442, -78.68000030517578, 7.091000080108643]"
        ],
        [
         "11",
         "C",
         "[-2.615000009536743, -77.99199676513672, 6.383999824523926]"
        ],
        [
         "12",
         "O",
         "[-3.450000047683716, -77.37000274658203, 7.050000190734863]"
        ],
        [
         "13",
         "CB",
         "[-0.8320000171661377, -77.76899719238281, 8.156999588012695]"
        ],
        [
         "14",
         "CG",
         "[0.3109999895095825, -77.125, 7.4679999351501465]"
        ],
        [
         "15",
         "CD",
         "[0.8619999885559082, -78.16600036621094, 6.535999774932861]"
        ],
        [
         "16",
         "N",
         "[-2.6760001182556152, -78.08100128173828, 5.045000076293945]"
        ],
        [
         "17",
         "CA",
         "[-3.7820000648498535, -77.53399658203125, 4.257999897003174]"
        ],
        [
         "18",
         "C",
         "[-3.9119999408721924, -76.03099822998047, 4.478000164031982]"
        ],
        [
         "19",
         "O",
         "[-4.802000045776367, -75.58899688720703, 5.216000080108643]"
        ],
        [
         "20",
         "CB",
         "[-5.105000019073486, -78.23699951171875, 4.585999965667725]"
        ],
        [
         "21",
         "CG2",
         "[-4.935999870300293, -79.7490005493164, 4.5320000648498535]"
        ],
        [
         "22",
         "OG1",
         "[-5.548999786376953, -77.85199737548828, 5.89300012588501]"
        ],
        [
         "23",
         "N",
         "[-3.0250000953674316, -75.2300033569336, 3.880000114440918]"
        ],
        [
         "24",
         "CA",
         "[-2.947000026702881, -73.80000305175781, 4.2129998207092285]"
        ],
        [
         "25",
         "C",
         "[-4.296999931335449, -73.09400177001953, 4.173999786376953]"
        ],
        [
         "26",
         "O",
         "[-5.190000057220459, -73.4469985961914, 3.4010000228881836]"
        ],
        [
         "27",
         "CB",
         "[-1.9989999532699585, -73.24199676513672, 3.1429998874664307]"
        ],
        [
         "28",
         "CG",
         "[-2.062999963760376, -74.23400115966797, 2.0199999809265137]"
        ],
        [
         "29",
         "CD",
         "[-2.2219998836517334, -75.56300354003906, 2.691999912261963]"
        ],
        [
         "30",
         "N",
         "[-4.426000118255615, -72.07499694824219, 5.026000022888184]"
        ],
        [
         "31",
         "CA",
         "[-5.677999973297119, -71.34400177001953, 5.1579999923706055]"
        ],
        [
         "32",
         "C",
         "[-5.923999786376953, -70.49800109863281, 3.9130001068115234]"
        ],
        [
         "33",
         "O",
         "[-4.989999771118164, -69.98300170898438, 3.2829999923706055]"
        ],
        [
         "34",
         "CB",
         "[-5.651000022888184, -70.47799682617188, 6.433000087738037]"
        ],
        [
         "35",
         "CG1",
         "[-4.515999794006348, -69.46199798583984, 6.370999813079834]"
        ],
        [
         "36",
         "CG2",
         "[-6.989999771118164, -69.78700256347656, 6.6570000648498535]"
        ],
        [
         "37",
         "N",
         "[-7.191999912261963, -70.36900329589844, 3.5429999828338623]"
        ],
        [
         "38",
         "CA",
         "[-7.580999851226807, -69.49800109863281, 2.444000005722046]"
        ],
        [
         "39",
         "C",
         "[-7.263999938964844, -68.0510025024414, 2.809000015258789]"
        ],
        [
         "40",
         "O",
         "[-7.826000213623047, -67.53099822998047, 3.7850000858306885]"
        ],
        [
         "41",
         "CB",
         "[-9.067999839782715, -69.66100311279297, 2.140000104904175]"
        ],
        [
         "42",
         "CG",
         "[-9.489999771118164, -68.94100189208984, 0.8740000128746033]"
        ],
        [
         "43",
         "ND2",
         "[-10.795000076293945, -68.83899688720703, 0.6600000262260437]"
        ],
        [
         "44",
         "OD1",
         "[-8.654000282287598, -68.48600006103516, 0.0949999988079071]"
        ],
        [
         "45",
         "N",
         "[-6.377999782562256, -67.37300109863281, 2.072999954223633]"
        ],
        [
         "46",
         "CA",
         "[-5.974999904632568, -66.01499938964844, 2.4749999046325684]"
        ],
        [
         "47",
         "C",
         "[-7.0980000495910645, -64.99299621582031, 2.4260001182556152]"
        ],
        [
         "48",
         "O",
         "[-6.979000091552734, -63.94499969482422, 3.072000026702881]"
        ],
        [
         "49",
         "CB",
         "[-4.861999988555908, -65.66699981689453, 1.4769999980926514]"
        ]
       ],
       "shape": {
        "columns": 2,
        "rows": 4518
       }
      },
      "text/html": [
       "<div>\n",
       "<style scoped>\n",
       "    .dataframe tbody tr th:only-of-type {\n",
       "        vertical-align: middle;\n",
       "    }\n",
       "\n",
       "    .dataframe tbody tr th {\n",
       "        vertical-align: top;\n",
       "    }\n",
       "\n",
       "    .dataframe thead th {\n",
       "        text-align: right;\n",
       "    }\n",
       "</style>\n",
       "<table border=\"1\" class=\"dataframe\">\n",
       "  <thead>\n",
       "    <tr style=\"text-align: right;\">\n",
       "      <th></th>\n",
       "      <th>n</th>\n",
       "      <th>c</th>\n",
       "    </tr>\n",
       "  </thead>\n",
       "  <tbody>\n",
       "    <tr>\n",
       "      <th>0</th>\n",
       "      <td>N</td>\n",
       "      <td>[1.9709999561309814, -83.97200012207031, 1.736...</td>\n",
       "    </tr>\n",
       "    <tr>\n",
       "      <th>1</th>\n",
       "      <td>CA</td>\n",
       "      <td>[1.625, -83.79100036621094, 3.134000062942505]</td>\n",
       "    </tr>\n",
       "    <tr>\n",
       "      <th>2</th>\n",
       "      <td>C</td>\n",
       "      <td>[1.8530000448226929, -82.3740005493164, 3.6219...</td>\n",
       "    </tr>\n",
       "    <tr>\n",
       "      <th>3</th>\n",
       "      <td>O</td>\n",
       "      <td>[2.9739999771118164, -81.86699676513672, 3.578...</td>\n",
       "    </tr>\n",
       "    <tr>\n",
       "      <th>4</th>\n",
       "      <td>N</td>\n",
       "      <td>[0.7879999876022339, -81.73600006103516, 4.097...</td>\n",
       "    </tr>\n",
       "    <tr>\n",
       "      <th>...</th>\n",
       "      <td>...</td>\n",
       "      <td>...</td>\n",
       "    </tr>\n",
       "    <tr>\n",
       "      <th>4513</th>\n",
       "      <td>O</td>\n",
       "      <td>[-49.4119987487793, -31.339000701904297, 19.80...</td>\n",
       "    </tr>\n",
       "    <tr>\n",
       "      <th>4514</th>\n",
       "      <td>CB</td>\n",
       "      <td>[-47.69300079345703, -33.000999450683594, 18.4...</td>\n",
       "    </tr>\n",
       "    <tr>\n",
       "      <th>4515</th>\n",
       "      <td>CG</td>\n",
       "      <td>[-46.624000549316406, -32.9119987487793, 19.57...</td>\n",
       "    </tr>\n",
       "    <tr>\n",
       "      <th>4516</th>\n",
       "      <td>OD1</td>\n",
       "      <td>[-46.94300079345703, -32.50699996948242, 20.71...</td>\n",
       "    </tr>\n",
       "    <tr>\n",
       "      <th>4517</th>\n",
       "      <td>OD2</td>\n",
       "      <td>[-45.45800018310547, -33.24800109863281, 19.27...</td>\n",
       "    </tr>\n",
       "  </tbody>\n",
       "</table>\n",
       "<p>4518 rows × 2 columns</p>\n",
       "</div>"
      ],
      "text/plain": [
       "        n                                                  c\n",
       "0       N  [1.9709999561309814, -83.97200012207031, 1.736...\n",
       "1      CA     [1.625, -83.79100036621094, 3.134000062942505]\n",
       "2       C  [1.8530000448226929, -82.3740005493164, 3.6219...\n",
       "3       O  [2.9739999771118164, -81.86699676513672, 3.578...\n",
       "4       N  [0.7879999876022339, -81.73600006103516, 4.097...\n",
       "...   ...                                                ...\n",
       "4513    O  [-49.4119987487793, -31.339000701904297, 19.80...\n",
       "4514   CB  [-47.69300079345703, -33.000999450683594, 18.4...\n",
       "4515   CG  [-46.624000549316406, -32.9119987487793, 19.57...\n",
       "4516  OD1  [-46.94300079345703, -32.50699996948242, 20.71...\n",
       "4517  OD2  [-45.45800018310547, -33.24800109863281, 19.27...\n",
       "\n",
       "[4518 rows x 2 columns]"
      ]
     },
     "execution_count": 6,
     "metadata": {},
     "output_type": "execute_result"
    }
   ],
   "source": [
    "import numpy as np\n",
    "def get_coord(obj):\n",
    "    name_list = []\n",
    "    coord_list = []\n",
    "    for i in range(len(obj.atom)):\n",
    "        element_name = obj.atom[i].name\n",
    "        coordinate = obj.atom[i].coord\n",
    "        name_list.append(element_name)\n",
    "        coord_list.append(coordinate)\n",
    "\n",
    "    df = pd.DataFrame(\n",
    "        {'n': name_list, \n",
    "        'c': coord_list}\n",
    "    )\n",
    "    return df\n",
    "\n",
    "df_c1 = get_coord(c1)\n",
    "df_c1\n"
   ]
  },
  {
   "cell_type": "code",
   "execution_count": null,
   "id": "7c6ceedb",
   "metadata": {},
   "outputs": [
    {
     "ename": "AttributeError",
     "evalue": "'Indexed' object has no attribute 'get_fastastr'",
     "output_type": "error",
     "traceback": [
      "\u001b[31m---------------------------------------------------------------------------\u001b[39m",
      "\u001b[31mAttributeError\u001b[39m                            Traceback (most recent call last)",
      "\u001b[36mCell\u001b[39m\u001b[36m \u001b[39m\u001b[32mIn[41]\u001b[39m\u001b[32m, line 61\u001b[39m\n\u001b[32m     58\u001b[39m         dist_obj2 = torch.cdist(tensor_coor2, tensor_coor2)\n\u001b[32m     59\u001b[39m         mask = (dist_obj1<\u001b[38;5;28mself\u001b[39m.cutoff)\n\u001b[32m---> \u001b[39m\u001b[32m61\u001b[39m l = \u001b[43mlDDT\u001b[49m\u001b[43m(\u001b[49m\u001b[43mc1\u001b[49m\u001b[43m,\u001b[49m\u001b[43m \u001b[49m\u001b[43mc2\u001b[49m\u001b[43m,\u001b[49m\u001b[43m \u001b[49m\u001b[43mcutoff\u001b[49m\u001b[43m=\u001b[49m\u001b[32;43m15\u001b[39;49m\u001b[43m,\u001b[49m\u001b[43m \u001b[49m\u001b[43mthresholds\u001b[49m\u001b[43m=\u001b[49m\u001b[43m[\u001b[49m\u001b[32;43m0.5\u001b[39;49m\u001b[43m,\u001b[49m\u001b[43m \u001b[49m\u001b[32;43m1.0\u001b[39;49m\u001b[43m,\u001b[49m\u001b[43m \u001b[49m\u001b[32;43m2.0\u001b[39;49m\u001b[43m,\u001b[49m\u001b[43m \u001b[49m\u001b[32;43m4.0\u001b[39;49m\u001b[43m]\u001b[49m\u001b[43m)\u001b[49m\n",
      "\u001b[36mCell\u001b[39m\u001b[36m \u001b[39m\u001b[32mIn[41]\u001b[39m\u001b[32m, line 12\u001b[39m, in \u001b[36mlDDT.__init__\u001b[39m\u001b[34m(self, cutoff, thresholds, *obj)\u001b[39m\n\u001b[32m     10\u001b[39m     \u001b[38;5;28msetattr\u001b[39m(\u001b[38;5;28mself\u001b[39m, obj_name , o)\n\u001b[32m     11\u001b[39m     fasta_name = \u001b[33mf\u001b[39m\u001b[33m'\u001b[39m\u001b[33mfasta\u001b[39m\u001b[38;5;132;01m{\u001b[39;00mi\u001b[38;5;132;01m}\u001b[39;00m\u001b[33m'\u001b[39m\n\u001b[32m---> \u001b[39m\u001b[32m12\u001b[39m     \u001b[38;5;28msetattr\u001b[39m(\u001b[38;5;28mself\u001b[39m, fasta_name, \u001b[43mo\u001b[49m\u001b[43m.\u001b[49m\u001b[43mget_fastastr\u001b[49m())\n\u001b[32m     13\u001b[39m \u001b[38;5;28mself\u001b[39m.cutoff = cutoff\n\u001b[32m     14\u001b[39m \u001b[38;5;28mself\u001b[39m.thresholds = thresholds\n",
      "\u001b[31mAttributeError\u001b[39m: 'Indexed' object has no attribute 'get_fastastr'"
     ]
    }
   ],
   "source": [
    "class lDDT():\n",
    "\n",
    "    # variable interpretation:\n",
    "    # o, obj: pdb object\n",
    "\n",
    "    def __init__(self, *obj, cutoff, thresholds):\n",
    "        self.all_objects = obj\n",
    "\n",
    "        for i, o in enumerate(obj):\n",
    "            obj_name = f'obj{i}'\n",
    "            setattr(self, obj_name , o)\n",
    "\n",
    "        self.cutoff = cutoff\n",
    "        self.thresholds = thresholds\n",
    "\n",
    "    @property\n",
    "    def element_names(self):\n",
    "        all_names = []\n",
    "        for object in self.all_objects:\n",
    "            name_list = [object.atom[i].name for i in range(len(object.atom))]\n",
    "            all_names.append(name_list)\n",
    "        return all_names\n",
    "    \n",
    "    @property\n",
    "    def coordinates(self):\n",
    "        all_coords = []\n",
    "        for object in self.all_objects:\n",
    "            coord_list = [object.atom[i].coord for i in range(len(object.atom))]\n",
    "            all_coords.append(coord_list)\n",
    "        return all_coords\n",
    "    \n",
    "    def save(self, i):\n",
    "        if i >= len(self.all_objects):\n",
    "            raise ValueError('expect i <= number of objects')\n",
    "        element_name = self.element_names[i]\n",
    "        coordinate = self.coordinates[i]\n",
    "        df = pd.DataFrame(\n",
    "            {\n",
    "                'n': element_name, \n",
    "                'c': coordinate\n",
    "            }\n",
    "        )\n",
    "        return df\n",
    "           \n",
    "    # Method uses CUDA to accelerate computation\n",
    "    def get_dist(self, residue_alignment_file, ):\n",
    "        \n",
    "        tensor_coor1 = torch.tensor(self.coordinates[0], device=device)\n",
    "        tensor_coor2 = torch.tensor(self.coordinates[1], device=device)\n",
    "        dist_obj1 = torch.cdist(tensor_coor1, tensor_coor1)\n",
    "        dist_obj2 = torch.cdist(tensor_coor2, tensor_coor2)\n",
    "        mask = (dist_obj1<self.cutoff)\n",
    "        \n",
    "l = lDDT(c1, c2, cutoff=15, thresholds=[0.5, 1.0, 2.0, 4.0])"
   ]
  },
  {
   "cell_type": "code",
   "execution_count": null,
   "id": "ac7a28da",
   "metadata": {},
   "outputs": [
    {
     "data": {
      "text/plain": [
       "'>cox1_A\\nGAPTPVNPCCYYPCQHQGICVRFGLDRYQCDCTRTGYSGPNCTIPGLWTWLRNSLRPSPSFTHFLLTHGR\\nWFWEFVNATFIREMLMRLVLTVRSNLIPSPPTYNSAHDYISWESFSNVSYYTRILPSVPKDCPTPMGTKG\\nKKQLPDAQLLARRFLLRRKFIPDPQGTNLMFAFFAQHFTHQFFKTSGKMGPGFTKALGHGVDLGHIYGDN\\nLERQYQLRLFKDGKLKYQVLDGEMYPPSVEEAPVLMHYPRGIPPQSQMAVGQEVFGLLPGLMLYATLWLR\\nEHNRVCDLLKAEHPTWGDEQLFQTTRLILIGETIKIVIEEYVQQLSGYFLQLKFDPELLFGVQFQYRNRI\\nAMEFNHLYHWHPLMPDSFKVGSQEYSYEQFLFNTSMLVDYGVEALVDAFSRQIAGRIGGGRNMDHHILHV\\nAVDVIRESREMRLQPFNEYRKRFGMKPYTSFQELVGEKEMAAELEELYGDIDALEFYPGLLLEKCHPNSI\\nFGESMIEIGAPFSLKGLLGNPICSPEYWKPSTFGGEVGFNIVKTATLKKLVCLNTKTCPYVSFRVPD\\n'"
      ]
     },
     "execution_count": 48,
     "metadata": {},
     "output_type": "execute_result"
    }
   ],
   "source": [
    "fasta1 = cmd.get_fastastr('cox1')\n",
    "re.findall()"
   ]
  },
  {
   "cell_type": "code",
   "execution_count": 46,
   "id": "67338877",
   "metadata": {},
   "outputs": [
    {
     "data": {
      "text/plain": [
       "'>cox2_A\\nNPCCSHPCQNRGVCMSVGFDQYKCDCTRTGFYGENCSTPEFLTRIKLFLKPTPNTVHYILTHFKGFWNVV\\nNNIPFLRNAIMSYVLTSRSHLIDSPPTYNADYGYKSWEAFSNLSYYTRALPPVPDDCPTPLGVKGKKQLP\\nDSNEIVEKLLLRRKFIPDPQGSNMMFAFFAQHFTHQFFKTDHKRGPAFTNGLGHGVDLNHIYGETLARQR\\nKLRLFKDGKMKYQIIDGEMYPPTVKDTQAEMIYPPQVPEHLRFAVGQEVFGLVPGLMMYATIWLREHNRV\\nCDVLKQEHPEWGDEQLFQTSRLILIGETIKIVIEDYVQHLSGYHFKLKFDPELLFNKQFQYQNRIAAEFN\\nTLYHWHPLLPDTFQIHDQKYNYQQFIYNNSILLEHGITQFVESFTRQIAGRVAGGRNVPPAVQKVSQASI\\nDQSRQMKYQSFNEYRKRFMLKPYESFEELTGEKEMSAELEALYGDIDAVELYPALLVEKPRPDAIFGETM\\nVEVGAPFSLKGLMGNVICSPAYWKPSTFGGEVGFQIINTASIQSLICNNVKGCPFTSFSVP'"
      ]
     },
     "execution_count": 46,
     "metadata": {},
     "output_type": "execute_result"
    }
   ],
   "source": [
    "cmd.get_fastastr('cox2').strip()"
   ]
  },
  {
   "cell_type": "code",
   "execution_count": 32,
   "id": "bd17c10c",
   "metadata": {},
   "outputs": [
    {
     "ename": "ValueError",
     "evalue": "expect i <= number of objects",
     "output_type": "error",
     "traceback": [
      "\u001b[31m---------------------------------------------------------------------------\u001b[39m",
      "\u001b[31mValueError\u001b[39m                                Traceback (most recent call last)",
      "\u001b[36mCell\u001b[39m\u001b[36m \u001b[39m\u001b[32mIn[32]\u001b[39m\u001b[32m, line 1\u001b[39m\n\u001b[32m----> \u001b[39m\u001b[32m1\u001b[39m cox1 = \u001b[43ml\u001b[49m\u001b[43m.\u001b[49m\u001b[43msave\u001b[49m\u001b[43m(\u001b[49m\u001b[32;43m10\u001b[39;49m\u001b[43m)\u001b[49m\n\u001b[32m      2\u001b[39m cox1\n",
      "\u001b[36mCell\u001b[39m\u001b[36m \u001b[39m\u001b[32mIn[24]\u001b[39m\u001b[32m, line 32\u001b[39m, in \u001b[36mlDDT.save\u001b[39m\u001b[34m(self, i)\u001b[39m\n\u001b[32m     30\u001b[39m \u001b[38;5;28;01mdef\u001b[39;00m\u001b[38;5;250m \u001b[39m\u001b[34msave\u001b[39m(\u001b[38;5;28mself\u001b[39m, i):\n\u001b[32m     31\u001b[39m     \u001b[38;5;28;01mif\u001b[39;00m i >= \u001b[38;5;28mlen\u001b[39m(\u001b[38;5;28mself\u001b[39m.all_objects):\n\u001b[32m---> \u001b[39m\u001b[32m32\u001b[39m         \u001b[38;5;28;01mraise\u001b[39;00m \u001b[38;5;167;01mValueError\u001b[39;00m(\u001b[33m'\u001b[39m\u001b[33mexpect i <= number of objects\u001b[39m\u001b[33m'\u001b[39m)\n\u001b[32m     33\u001b[39m     element_name = \u001b[38;5;28mself\u001b[39m.element_names[i]\n\u001b[32m     34\u001b[39m     coordinate = \u001b[38;5;28mself\u001b[39m.coordinates[i]\n",
      "\u001b[31mValueError\u001b[39m: expect i <= number of objects"
     ]
    }
   ],
   "source": [
    "cox1 = l.save(10)\n",
    "cox1"
   ]
  },
  {
   "cell_type": "code",
   "execution_count": 38,
   "id": "5aa653f7",
   "metadata": {},
   "outputs": [],
   "source": [
    "coor1 = torch.tensor(l.coordinates[0], device=device)\n",
    "coor2 = torch.tensor(l.coordinates[1], device=device)\n",
    "cd1 = torch.cdist(coor1, coor1)\n",
    "cd2 = torch.cdist(coor2, coor2)"
   ]
  },
  {
   "cell_type": "code",
   "execution_count": 39,
   "id": "00f1d168",
   "metadata": {},
   "outputs": [
    {
     "ename": "RuntimeError",
     "evalue": "The size of tensor a (4518) must match the size of tensor b (4470) at non-singleton dimension 1",
     "output_type": "error",
     "traceback": [
      "\u001b[31m---------------------------------------------------------------------------\u001b[39m",
      "\u001b[31mRuntimeError\u001b[39m                              Traceback (most recent call last)",
      "\u001b[36mCell\u001b[39m\u001b[36m \u001b[39m\u001b[32mIn[39]\u001b[39m\u001b[32m, line 1\u001b[39m\n\u001b[32m----> \u001b[39m\u001b[32m1\u001b[39m diff = torch.abs(\u001b[43mcd1\u001b[49m\u001b[43m \u001b[49m\u001b[43m-\u001b[49m\u001b[43m \u001b[49m\u001b[43mcd2\u001b[49m)\n\u001b[32m      2\u001b[39m diff.shape\n",
      "\u001b[31mRuntimeError\u001b[39m: The size of tensor a (4518) must match the size of tensor b (4470) at non-singleton dimension 1"
     ]
    }
   ],
   "source": [
    "diff = torch.abs(cd1 - cd2)\n",
    "diff.shape"
   ]
  },
  {
   "cell_type": "code",
   "execution_count": 37,
   "id": "a821c29c",
   "metadata": {},
   "outputs": [
    {
     "data": {
      "text/plain": [
       "tensor(0)"
      ]
     },
     "execution_count": 37,
     "metadata": {},
     "output_type": "execute_result"
    }
   ],
   "source": [
    "sum(sum(cd1<0))"
   ]
  },
  {
   "cell_type": "code",
   "execution_count": 31,
   "id": "24e1c51d",
   "metadata": {},
   "outputs": [
    {
     "data": {
      "text/plain": [
       "torch.Size([4518, 3])"
      ]
     },
     "execution_count": 31,
     "metadata": {},
     "output_type": "execute_result"
    }
   ],
   "source": [
    "coor1.shape"
   ]
  },
  {
   "cell_type": "code",
   "execution_count": 16,
   "id": "1f783c30",
   "metadata": {},
   "outputs": [
    {
     "data": {
      "text/plain": [
       "array([1, 4, 9])"
      ]
     },
     "execution_count": 16,
     "metadata": {},
     "output_type": "execute_result"
    }
   ],
   "source": [
    "np.pow([1, 2, 3], 2)"
   ]
  },
  {
   "cell_type": "code",
   "execution_count": 7,
   "id": "a9594e03",
   "metadata": {},
   "outputs": [],
   "source": [
    "df_c1.to_parquet('cox1.parquet', index=False)"
   ]
  },
  {
   "cell_type": "code",
   "execution_count": 6,
   "id": "7dde5bf9",
   "metadata": {},
   "outputs": [
    {
     "data": {
      "text/plain": [
       "array([array([  1.97099996, -83.97200012,   1.73699999]),\n",
       "       array([  1.625     , -83.79100037,   3.13400006]),\n",
       "       array([  1.85300004, -82.37400055,   3.62199998]), ...,\n",
       "       array([-46.62400055, -32.91199875,  19.5739994 ]),\n",
       "       array([-46.94300079, -32.50699997,  20.71100044]),\n",
       "       array([-45.45800018, -33.2480011 ,  19.27599907])], dtype=object)"
      ]
     },
     "execution_count": 6,
     "metadata": {},
     "output_type": "execute_result"
    }
   ],
   "source": [
    "cox1 = pd.read_parquet('cox1.parquet')\n",
    "cox1['c'].values"
   ]
  },
  {
   "cell_type": "code",
   "execution_count": 8,
   "id": "878cfad1",
   "metadata": {},
   "outputs": [
    {
     "data": {
      "text/plain": [
       "array([[  1.97099996, -83.97200012,   1.73699999],\n",
       "       [  1.625     , -83.79100037,   3.13400006],\n",
       "       [  1.85300004, -82.37400055,   3.62199998],\n",
       "       ...,\n",
       "       [-46.62400055, -32.91199875,  19.5739994 ],\n",
       "       [-46.94300079, -32.50699997,  20.71100044],\n",
       "       [-45.45800018, -33.2480011 ,  19.27599907]])"
      ]
     },
     "execution_count": 8,
     "metadata": {},
     "output_type": "execute_result"
    }
   ],
   "source": [
    "import numpy as np\n",
    "np.stack(cox1['c'].values)"
   ]
  },
  {
   "cell_type": "code",
   "execution_count": 9,
   "id": "7c9a69fc",
   "metadata": {},
   "outputs": [
    {
     "data": {
      "text/plain": [
       "tensor([[  1.9710, -83.9720,   1.7370],\n",
       "        [  1.6250, -83.7910,   3.1340],\n",
       "        [  1.8530, -82.3740,   3.6220],\n",
       "        ...,\n",
       "        [-46.6240, -32.9120,  19.5740],\n",
       "        [-46.9430, -32.5070,  20.7110],\n",
       "        [-45.4580, -33.2480,  19.2760]], dtype=torch.float64)"
      ]
     },
     "execution_count": 9,
     "metadata": {},
     "output_type": "execute_result"
    }
   ],
   "source": [
    "torch.tensor(np.stack(cox1['c'].values))"
   ]
  },
  {
   "cell_type": "code",
   "execution_count": 51,
   "id": "979acb72",
   "metadata": {},
   "outputs": [
    {
     "data": {
      "text/plain": [
       "2228"
      ]
     },
     "execution_count": 51,
     "metadata": {},
     "output_type": "execute_result"
    }
   ],
   "source": [
    "cmd.select('cox2_maskseq', 'cox2 and resi 1-89 and resi 91-586 and backbone')\n",
    "cmd.select('cox1_maskseq', 'cox1 and resi 14-599 and backbone')"
   ]
  },
  {
   "cell_type": "code",
   "execution_count": 54,
   "id": "2c7435fe",
   "metadata": {},
   "outputs": [
    {
     "data": {
      "text/plain": [
       "549"
      ]
     },
     "execution_count": 54,
     "metadata": {},
     "output_type": "execute_result"
    }
   ],
   "source": [
    "#select cox2_maskseq, cox2 and (resi -104 | resi 106-) and name CA\n",
    "cmd.select('cox2_maskseq', 'cox2 and (resi -104 | resi 106-) and name CA')"
   ]
  },
  {
   "cell_type": "code",
   "execution_count": 56,
   "id": "ffc9f1a5",
   "metadata": {},
   "outputs": [
    {
     "data": {
      "text/plain": [
       "549"
      ]
     },
     "execution_count": 56,
     "metadata": {},
     "output_type": "execute_result"
    }
   ],
   "source": [
    "#select cox1_maskseq, (cox1 and resi 34-77 | resi 79-583) and name CA\n",
    "cmd.select('cox1_maskseq', 'cox1 and (resi 34-77 | resi 79-583) and name CA')"
   ]
  },
  {
   "cell_type": "markdown",
   "id": "7552d35d",
   "metadata": {},
   "source": []
  }
 ],
 "metadata": {
  "kernelspec": {
   "display_name": "pymol",
   "language": "python",
   "name": "python3"
  },
  "language_info": {
   "codemirror_mode": {
    "name": "ipython",
    "version": 3
   },
   "file_extension": ".py",
   "mimetype": "text/x-python",
   "name": "python",
   "nbconvert_exporter": "python",
   "pygments_lexer": "ipython3",
   "version": "3.12.7"
  }
 },
 "nbformat": 4,
 "nbformat_minor": 5
}
